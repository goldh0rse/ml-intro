{
 "cells": [
  {
   "cell_type": "markdown",
   "metadata": {},
   "source": [
    "#### Welcome to Assingment  2 of Machine Learning Course 5DV194! \n",
    "The task is to develop regression algorithms to predict house prices.\n",
    "#### Deadline of Assignment 2:\n",
    "10 March, 2021 (23:59:59 Stockholm time)\n",
    "\n",
    "\n",
    "#### Goal \n",
    "To practice linear regression and neural network on housing price prediction. Additionally, to get familiar with the libraries of pandas (e.g., data frame), tensorflow (e.g., sequential), sklearn (e.g., linear regression, ridge regression, preprocessing).\n",
    "#### Dataset\n",
    "The Boston Housing Dataset\n",
    "https://www.cs.toronto.edu/~delve/data/boston/bostonDetail.html\n",
    "\n",
    " \n",
    "\n",
    "#### Grading (200 points)\n",
    "##### 160 points \n",
    "Follow this jupyter notebook file below, you will find some tasks to complete by coding.  \n",
    "##### 40 points (report)\n",
    "Write a report (1 page, Times New Roman, font 11) which should include comparision of both algorithms on different settings (30 points); And your thoughts/options about the difference of them (different algorithms, different settings, different performance). (10 points).     \n",
    " \n",
    "\n",
    "Upload the report PDF and this jupyter notebook file \"Assignment2_regression.ipynb\" to Cambro/Drop Box."
   ]
  },
  {
   "cell_type": "raw",
   "metadata": {},
   "source": [
    "# In order to run the following codes, you need to install some libraries, such as pandas, numpy, matplotlib, seaborn, tensorflow, scikit-learn. \n",
    "# You can use command 'conda install pandas' or 'pip install pandas'. \n",
    "# Or you can list all libraries in a txt file, one per line, and install them once 'pip install -r yourFileName.txt'"
   ]
  },
  {
   "cell_type": "markdown",
   "metadata": {},
   "source": [
    "## Import  some libraries"
   ]
  },
  {
   "cell_type": "code",
   "execution_count": 8,
   "metadata": {},
   "outputs": [],
   "source": [
    "import pandas as pd\n",
    "import matplotlib.pyplot as plt\n",
    "import seaborn as sns\n",
    "%matplotlib inline"
   ]
  },
  {
   "cell_type": "markdown",
   "metadata": {},
   "source": [
    "#### Task-1: import the library of 'numpy' and give it an alias as \"np\" (5 points)"
   ]
  },
  {
   "cell_type": "code",
   "execution_count": 9,
   "metadata": {},
   "outputs": [],
   "source": [
    "import numpy as np"
   ]
  },
  {
   "cell_type": "markdown",
   "metadata": {},
   "source": [
    "## Get the data"
   ]
  },
  {
   "cell_type": "code",
   "execution_count": 10,
   "metadata": {},
   "outputs": [],
   "source": [
    "from sklearn.datasets import load_boston\n",
    "housing_data = load_boston()"
   ]
  },
  {
   "cell_type": "markdown",
   "metadata": {},
   "source": [
    "## Explore the data a bit"
   ]
  },
  {
   "cell_type": "code",
   "execution_count": 11,
   "metadata": {},
   "outputs": [
    {
     "name": "stdout",
     "output_type": "stream",
     "text": [
      "dict_keys(['data', 'target', 'feature_names', 'DESCR', 'filename'])\n"
     ]
    }
   ],
   "source": [
    "# Checing the keys of the dataset, which is in dictionary format.\n",
    "print(housing_data.keys())"
   ]
  },
  {
   "cell_type": "code",
   "execution_count": 12,
   "metadata": {},
   "outputs": [
    {
     "name": "stdout",
     "output_type": "stream",
     "text": [
      ".. _boston_dataset:\n",
      "\n",
      "Boston house prices dataset\n",
      "---------------------------\n",
      "\n",
      "**Data Set Characteristics:**  \n",
      "\n",
      "    :Number of Instances: 506 \n",
      "\n",
      "    :Number of Attributes: 13 numeric/categorical predictive. Median Value (attribute 14) is usually the target.\n",
      "\n",
      "    :Attribute Information (in order):\n",
      "        - CRIM     per capita crime rate by town\n",
      "        - ZN       proportion of residential land zoned for lots over 25,000 sq.ft.\n",
      "        - INDUS    proportion of non-retail business acres per town\n",
      "        - CHAS     Charles River dummy variable (= 1 if tract bounds river; 0 otherwise)\n",
      "        - NOX      nitric oxides concentration (parts per 10 million)\n",
      "        - RM       average number of rooms per dwelling\n",
      "        - AGE      proportion of owner-occupied units built prior to 1940\n",
      "        - DIS      weighted distances to five Boston employment centres\n",
      "        - RAD      index of accessibility to radial highways\n",
      "        - TAX      full-value property-tax rate per $10,000\n",
      "        - PTRATIO  pupil-teacher ratio by town\n",
      "        - B        1000(Bk - 0.63)^2 where Bk is the proportion of blacks by town\n",
      "        - LSTAT    % lower status of the population\n",
      "        - MEDV     Median value of owner-occupied homes in $1000's\n",
      "\n",
      "    :Missing Attribute Values: None\n",
      "\n",
      "    :Creator: Harrison, D. and Rubinfeld, D.L.\n",
      "\n",
      "This is a copy of UCI ML housing dataset.\n",
      "https://archive.ics.uci.edu/ml/machine-learning-databases/housing/\n",
      "\n",
      "\n",
      "This dataset was taken from the StatLib library which is maintained at Carnegie Mellon University.\n",
      "\n",
      "The Boston house-price data of Harrison, D. and Rubinfeld, D.L. 'Hedonic\n",
      "prices and the demand for clean air', J. Environ. Economics & Management,\n",
      "vol.5, 81-102, 1978.   Used in Belsley, Kuh & Welsch, 'Regression diagnostics\n",
      "...', Wiley, 1980.   N.B. Various transformations are used in the table on\n",
      "pages 244-261 of the latter.\n",
      "\n",
      "The Boston house-price data has been used in many machine learning papers that address regression\n",
      "problems.   \n",
      "     \n",
      ".. topic:: References\n",
      "\n",
      "   - Belsley, Kuh & Welsch, 'Regression diagnostics: Identifying Influential Data and Sources of Collinearity', Wiley, 1980. 244-261.\n",
      "   - Quinlan,R. (1993). Combining Instance-Based and Model-Based Learning. In Proceedings on the Tenth International Conference of Machine Learning, 236-243, University of Massachusetts, Amherst. Morgan Kaufmann.\n",
      "\n"
     ]
    }
   ],
   "source": [
    "# Checking description of the dataset\n",
    "print (housing_data[\"DESCR\"])"
   ]
  },
  {
   "cell_type": "code",
   "execution_count": 13,
   "metadata": {},
   "outputs": [],
   "source": [
    "# Converting the data into Data Frame using pandas\n",
    "boston = pd.DataFrame(housing_data.data)\n",
    "#Assigning feature-names to colums of data frame\n",
    "boston.columns = housing_data.feature_names"
   ]
  },
  {
   "cell_type": "markdown",
   "metadata": {},
   "source": [
    "#### Task-2: Print the first ten rows for the dataframe boston (5 points)"
   ]
  },
  {
   "cell_type": "code",
   "execution_count": 14,
   "metadata": {
    "scrolled": true
   },
   "outputs": [
    {
     "name": "stdout",
     "output_type": "stream",
     "text": [
      "CRIM         0.00632\n",
      "ZN          18.00000\n",
      "INDUS        2.31000\n",
      "CHAS         0.00000\n",
      "NOX          0.53800\n",
      "RM           6.57500\n",
      "AGE         65.20000\n",
      "DIS          4.09000\n",
      "RAD          1.00000\n",
      "TAX        296.00000\n",
      "PTRATIO     15.30000\n",
      "B          396.90000\n",
      "LSTAT        4.98000\n",
      "Name: 0, dtype: float64\n",
      "CRIM         0.02731\n",
      "ZN           0.00000\n",
      "INDUS        7.07000\n",
      "CHAS         0.00000\n",
      "NOX          0.46900\n",
      "RM           6.42100\n",
      "AGE         78.90000\n",
      "DIS          4.96710\n",
      "RAD          2.00000\n",
      "TAX        242.00000\n",
      "PTRATIO     17.80000\n",
      "B          396.90000\n",
      "LSTAT        9.14000\n",
      "Name: 1, dtype: float64\n",
      "CRIM         0.02729\n",
      "ZN           0.00000\n",
      "INDUS        7.07000\n",
      "CHAS         0.00000\n",
      "NOX          0.46900\n",
      "RM           7.18500\n",
      "AGE         61.10000\n",
      "DIS          4.96710\n",
      "RAD          2.00000\n",
      "TAX        242.00000\n",
      "PTRATIO     17.80000\n",
      "B          392.83000\n",
      "LSTAT        4.03000\n",
      "Name: 2, dtype: float64\n",
      "CRIM         0.03237\n",
      "ZN           0.00000\n",
      "INDUS        2.18000\n",
      "CHAS         0.00000\n",
      "NOX          0.45800\n",
      "RM           6.99800\n",
      "AGE         45.80000\n",
      "DIS          6.06220\n",
      "RAD          3.00000\n",
      "TAX        222.00000\n",
      "PTRATIO     18.70000\n",
      "B          394.63000\n",
      "LSTAT        2.94000\n",
      "Name: 3, dtype: float64\n",
      "CRIM         0.06905\n",
      "ZN           0.00000\n",
      "INDUS        2.18000\n",
      "CHAS         0.00000\n",
      "NOX          0.45800\n",
      "RM           7.14700\n",
      "AGE         54.20000\n",
      "DIS          6.06220\n",
      "RAD          3.00000\n",
      "TAX        222.00000\n",
      "PTRATIO     18.70000\n",
      "B          396.90000\n",
      "LSTAT        5.33000\n",
      "Name: 4, dtype: float64\n",
      "CRIM         0.02985\n",
      "ZN           0.00000\n",
      "INDUS        2.18000\n",
      "CHAS         0.00000\n",
      "NOX          0.45800\n",
      "RM           6.43000\n",
      "AGE         58.70000\n",
      "DIS          6.06220\n",
      "RAD          3.00000\n",
      "TAX        222.00000\n",
      "PTRATIO     18.70000\n",
      "B          394.12000\n",
      "LSTAT        5.21000\n",
      "Name: 5, dtype: float64\n",
      "CRIM         0.08829\n",
      "ZN          12.50000\n",
      "INDUS        7.87000\n",
      "CHAS         0.00000\n",
      "NOX          0.52400\n",
      "RM           6.01200\n",
      "AGE         66.60000\n",
      "DIS          5.56050\n",
      "RAD          5.00000\n",
      "TAX        311.00000\n",
      "PTRATIO     15.20000\n",
      "B          395.60000\n",
      "LSTAT       12.43000\n",
      "Name: 6, dtype: float64\n",
      "CRIM         0.14455\n",
      "ZN          12.50000\n",
      "INDUS        7.87000\n",
      "CHAS         0.00000\n",
      "NOX          0.52400\n",
      "RM           6.17200\n",
      "AGE         96.10000\n",
      "DIS          5.95050\n",
      "RAD          5.00000\n",
      "TAX        311.00000\n",
      "PTRATIO     15.20000\n",
      "B          396.90000\n",
      "LSTAT       19.15000\n",
      "Name: 7, dtype: float64\n",
      "CRIM         0.21124\n",
      "ZN          12.50000\n",
      "INDUS        7.87000\n",
      "CHAS         0.00000\n",
      "NOX          0.52400\n",
      "RM           5.63100\n",
      "AGE        100.00000\n",
      "DIS          6.08210\n",
      "RAD          5.00000\n",
      "TAX        311.00000\n",
      "PTRATIO     15.20000\n",
      "B          386.63000\n",
      "LSTAT       29.93000\n",
      "Name: 8, dtype: float64\n",
      "CRIM         0.17004\n",
      "ZN          12.50000\n",
      "INDUS        7.87000\n",
      "CHAS         0.00000\n",
      "NOX          0.52400\n",
      "RM           6.00400\n",
      "AGE         85.90000\n",
      "DIS          6.59210\n",
      "RAD          5.00000\n",
      "TAX        311.00000\n",
      "PTRATIO     15.20000\n",
      "B          386.71000\n",
      "LSTAT       17.10000\n",
      "Name: 9, dtype: float64\n"
     ]
    }
   ],
   "source": [
    "for i in range(10):\n",
    "    print(boston.iloc[i,:])"
   ]
  },
  {
   "cell_type": "code",
   "execution_count": 15,
   "metadata": {},
   "outputs": [
    {
     "data": {
      "text/html": [
       "<div>\n",
       "<style scoped>\n",
       "    .dataframe tbody tr th:only-of-type {\n",
       "        vertical-align: middle;\n",
       "    }\n",
       "\n",
       "    .dataframe tbody tr th {\n",
       "        vertical-align: top;\n",
       "    }\n",
       "\n",
       "    .dataframe thead th {\n",
       "        text-align: right;\n",
       "    }\n",
       "</style>\n",
       "<table border=\"1\" class=\"dataframe\">\n",
       "  <thead>\n",
       "    <tr style=\"text-align: right;\">\n",
       "      <th></th>\n",
       "      <th>CRIM</th>\n",
       "      <th>ZN</th>\n",
       "      <th>INDUS</th>\n",
       "      <th>CHAS</th>\n",
       "      <th>NOX</th>\n",
       "      <th>RM</th>\n",
       "      <th>AGE</th>\n",
       "      <th>DIS</th>\n",
       "      <th>RAD</th>\n",
       "      <th>TAX</th>\n",
       "      <th>PTRATIO</th>\n",
       "      <th>B</th>\n",
       "      <th>LSTAT</th>\n",
       "      <th>PRICE</th>\n",
       "    </tr>\n",
       "  </thead>\n",
       "  <tbody>\n",
       "    <tr>\n",
       "      <th>0</th>\n",
       "      <td>0.00632</td>\n",
       "      <td>18.0</td>\n",
       "      <td>2.31</td>\n",
       "      <td>0.0</td>\n",
       "      <td>0.538</td>\n",
       "      <td>6.575</td>\n",
       "      <td>65.2</td>\n",
       "      <td>4.0900</td>\n",
       "      <td>1.0</td>\n",
       "      <td>296.0</td>\n",
       "      <td>15.3</td>\n",
       "      <td>396.90</td>\n",
       "      <td>4.98</td>\n",
       "      <td>24.0</td>\n",
       "    </tr>\n",
       "    <tr>\n",
       "      <th>1</th>\n",
       "      <td>0.02731</td>\n",
       "      <td>0.0</td>\n",
       "      <td>7.07</td>\n",
       "      <td>0.0</td>\n",
       "      <td>0.469</td>\n",
       "      <td>6.421</td>\n",
       "      <td>78.9</td>\n",
       "      <td>4.9671</td>\n",
       "      <td>2.0</td>\n",
       "      <td>242.0</td>\n",
       "      <td>17.8</td>\n",
       "      <td>396.90</td>\n",
       "      <td>9.14</td>\n",
       "      <td>21.6</td>\n",
       "    </tr>\n",
       "    <tr>\n",
       "      <th>2</th>\n",
       "      <td>0.02729</td>\n",
       "      <td>0.0</td>\n",
       "      <td>7.07</td>\n",
       "      <td>0.0</td>\n",
       "      <td>0.469</td>\n",
       "      <td>7.185</td>\n",
       "      <td>61.1</td>\n",
       "      <td>4.9671</td>\n",
       "      <td>2.0</td>\n",
       "      <td>242.0</td>\n",
       "      <td>17.8</td>\n",
       "      <td>392.83</td>\n",
       "      <td>4.03</td>\n",
       "      <td>34.7</td>\n",
       "    </tr>\n",
       "    <tr>\n",
       "      <th>3</th>\n",
       "      <td>0.03237</td>\n",
       "      <td>0.0</td>\n",
       "      <td>2.18</td>\n",
       "      <td>0.0</td>\n",
       "      <td>0.458</td>\n",
       "      <td>6.998</td>\n",
       "      <td>45.8</td>\n",
       "      <td>6.0622</td>\n",
       "      <td>3.0</td>\n",
       "      <td>222.0</td>\n",
       "      <td>18.7</td>\n",
       "      <td>394.63</td>\n",
       "      <td>2.94</td>\n",
       "      <td>33.4</td>\n",
       "    </tr>\n",
       "    <tr>\n",
       "      <th>4</th>\n",
       "      <td>0.06905</td>\n",
       "      <td>0.0</td>\n",
       "      <td>2.18</td>\n",
       "      <td>0.0</td>\n",
       "      <td>0.458</td>\n",
       "      <td>7.147</td>\n",
       "      <td>54.2</td>\n",
       "      <td>6.0622</td>\n",
       "      <td>3.0</td>\n",
       "      <td>222.0</td>\n",
       "      <td>18.7</td>\n",
       "      <td>396.90</td>\n",
       "      <td>5.33</td>\n",
       "      <td>36.2</td>\n",
       "    </tr>\n",
       "  </tbody>\n",
       "</table>\n",
       "</div>"
      ],
      "text/plain": [
       "      CRIM    ZN  INDUS  CHAS    NOX     RM   AGE     DIS  RAD    TAX  \\\n",
       "0  0.00632  18.0   2.31   0.0  0.538  6.575  65.2  4.0900  1.0  296.0   \n",
       "1  0.02731   0.0   7.07   0.0  0.469  6.421  78.9  4.9671  2.0  242.0   \n",
       "2  0.02729   0.0   7.07   0.0  0.469  7.185  61.1  4.9671  2.0  242.0   \n",
       "3  0.03237   0.0   2.18   0.0  0.458  6.998  45.8  6.0622  3.0  222.0   \n",
       "4  0.06905   0.0   2.18   0.0  0.458  7.147  54.2  6.0622  3.0  222.0   \n",
       "\n",
       "   PTRATIO       B  LSTAT  PRICE  \n",
       "0     15.3  396.90   4.98   24.0  \n",
       "1     17.8  396.90   9.14   21.6  \n",
       "2     17.8  392.83   4.03   34.7  \n",
       "3     18.7  394.63   2.94   33.4  \n",
       "4     18.7  396.90   5.33   36.2  "
      ]
     },
     "execution_count": 15,
     "metadata": {},
     "output_type": "execute_result"
    }
   ],
   "source": [
    "#Adding the target column Price to the data frame\n",
    "boston['PRICE'] = housing_data.target\n",
    "boston.head()"
   ]
  },
  {
   "cell_type": "code",
   "execution_count": 16,
   "metadata": {},
   "outputs": [
    {
     "name": "stdout",
     "output_type": "stream",
     "text": [
      "<class 'pandas.core.frame.DataFrame'>\n",
      "RangeIndex: 506 entries, 0 to 505\n",
      "Data columns (total 14 columns):\n",
      " #   Column   Non-Null Count  Dtype  \n",
      "---  ------   --------------  -----  \n",
      " 0   CRIM     506 non-null    float64\n",
      " 1   ZN       506 non-null    float64\n",
      " 2   INDUS    506 non-null    float64\n",
      " 3   CHAS     506 non-null    float64\n",
      " 4   NOX      506 non-null    float64\n",
      " 5   RM       506 non-null    float64\n",
      " 6   AGE      506 non-null    float64\n",
      " 7   DIS      506 non-null    float64\n",
      " 8   RAD      506 non-null    float64\n",
      " 9   TAX      506 non-null    float64\n",
      " 10  PTRATIO  506 non-null    float64\n",
      " 11  B        506 non-null    float64\n",
      " 12  LSTAT    506 non-null    float64\n",
      " 13  PRICE    506 non-null    float64\n",
      "dtypes: float64(14)\n",
      "memory usage: 55.5 KB\n"
     ]
    }
   ],
   "source": [
    "# Let's see how the data structure looks like now\n",
    "boston.info()"
   ]
  },
  {
   "cell_type": "markdown",
   "metadata": {},
   "source": [
    "#### Task-3: Return the Summary Statistic of the numeric columns for dataframe boston by applying the method 'describe' of data frame. (5 points)"
   ]
  },
  {
   "cell_type": "code",
   "execution_count": 17,
   "metadata": {},
   "outputs": [
    {
     "data": {
      "text/html": [
       "<div>\n",
       "<style scoped>\n",
       "    .dataframe tbody tr th:only-of-type {\n",
       "        vertical-align: middle;\n",
       "    }\n",
       "\n",
       "    .dataframe tbody tr th {\n",
       "        vertical-align: top;\n",
       "    }\n",
       "\n",
       "    .dataframe thead th {\n",
       "        text-align: right;\n",
       "    }\n",
       "</style>\n",
       "<table border=\"1\" class=\"dataframe\">\n",
       "  <thead>\n",
       "    <tr style=\"text-align: right;\">\n",
       "      <th></th>\n",
       "      <th>CRIM</th>\n",
       "      <th>ZN</th>\n",
       "      <th>INDUS</th>\n",
       "      <th>CHAS</th>\n",
       "      <th>NOX</th>\n",
       "      <th>RM</th>\n",
       "      <th>AGE</th>\n",
       "      <th>DIS</th>\n",
       "      <th>RAD</th>\n",
       "      <th>TAX</th>\n",
       "      <th>PTRATIO</th>\n",
       "      <th>B</th>\n",
       "      <th>LSTAT</th>\n",
       "      <th>PRICE</th>\n",
       "    </tr>\n",
       "  </thead>\n",
       "  <tbody>\n",
       "    <tr>\n",
       "      <th>count</th>\n",
       "      <td>506.000000</td>\n",
       "      <td>506.000000</td>\n",
       "      <td>506.000000</td>\n",
       "      <td>506.000000</td>\n",
       "      <td>506.000000</td>\n",
       "      <td>506.000000</td>\n",
       "      <td>506.000000</td>\n",
       "      <td>506.000000</td>\n",
       "      <td>506.000000</td>\n",
       "      <td>506.000000</td>\n",
       "      <td>506.000000</td>\n",
       "      <td>506.000000</td>\n",
       "      <td>506.000000</td>\n",
       "      <td>506.000000</td>\n",
       "    </tr>\n",
       "    <tr>\n",
       "      <th>mean</th>\n",
       "      <td>3.613524</td>\n",
       "      <td>11.363636</td>\n",
       "      <td>11.136779</td>\n",
       "      <td>0.069170</td>\n",
       "      <td>0.554695</td>\n",
       "      <td>6.284634</td>\n",
       "      <td>68.574901</td>\n",
       "      <td>3.795043</td>\n",
       "      <td>9.549407</td>\n",
       "      <td>408.237154</td>\n",
       "      <td>18.455534</td>\n",
       "      <td>356.674032</td>\n",
       "      <td>12.653063</td>\n",
       "      <td>22.532806</td>\n",
       "    </tr>\n",
       "    <tr>\n",
       "      <th>std</th>\n",
       "      <td>8.601545</td>\n",
       "      <td>23.322453</td>\n",
       "      <td>6.860353</td>\n",
       "      <td>0.253994</td>\n",
       "      <td>0.115878</td>\n",
       "      <td>0.702617</td>\n",
       "      <td>28.148861</td>\n",
       "      <td>2.105710</td>\n",
       "      <td>8.707259</td>\n",
       "      <td>168.537116</td>\n",
       "      <td>2.164946</td>\n",
       "      <td>91.294864</td>\n",
       "      <td>7.141062</td>\n",
       "      <td>9.197104</td>\n",
       "    </tr>\n",
       "    <tr>\n",
       "      <th>min</th>\n",
       "      <td>0.006320</td>\n",
       "      <td>0.000000</td>\n",
       "      <td>0.460000</td>\n",
       "      <td>0.000000</td>\n",
       "      <td>0.385000</td>\n",
       "      <td>3.561000</td>\n",
       "      <td>2.900000</td>\n",
       "      <td>1.129600</td>\n",
       "      <td>1.000000</td>\n",
       "      <td>187.000000</td>\n",
       "      <td>12.600000</td>\n",
       "      <td>0.320000</td>\n",
       "      <td>1.730000</td>\n",
       "      <td>5.000000</td>\n",
       "    </tr>\n",
       "    <tr>\n",
       "      <th>25%</th>\n",
       "      <td>0.082045</td>\n",
       "      <td>0.000000</td>\n",
       "      <td>5.190000</td>\n",
       "      <td>0.000000</td>\n",
       "      <td>0.449000</td>\n",
       "      <td>5.885500</td>\n",
       "      <td>45.025000</td>\n",
       "      <td>2.100175</td>\n",
       "      <td>4.000000</td>\n",
       "      <td>279.000000</td>\n",
       "      <td>17.400000</td>\n",
       "      <td>375.377500</td>\n",
       "      <td>6.950000</td>\n",
       "      <td>17.025000</td>\n",
       "    </tr>\n",
       "    <tr>\n",
       "      <th>50%</th>\n",
       "      <td>0.256510</td>\n",
       "      <td>0.000000</td>\n",
       "      <td>9.690000</td>\n",
       "      <td>0.000000</td>\n",
       "      <td>0.538000</td>\n",
       "      <td>6.208500</td>\n",
       "      <td>77.500000</td>\n",
       "      <td>3.207450</td>\n",
       "      <td>5.000000</td>\n",
       "      <td>330.000000</td>\n",
       "      <td>19.050000</td>\n",
       "      <td>391.440000</td>\n",
       "      <td>11.360000</td>\n",
       "      <td>21.200000</td>\n",
       "    </tr>\n",
       "    <tr>\n",
       "      <th>75%</th>\n",
       "      <td>3.677083</td>\n",
       "      <td>12.500000</td>\n",
       "      <td>18.100000</td>\n",
       "      <td>0.000000</td>\n",
       "      <td>0.624000</td>\n",
       "      <td>6.623500</td>\n",
       "      <td>94.075000</td>\n",
       "      <td>5.188425</td>\n",
       "      <td>24.000000</td>\n",
       "      <td>666.000000</td>\n",
       "      <td>20.200000</td>\n",
       "      <td>396.225000</td>\n",
       "      <td>16.955000</td>\n",
       "      <td>25.000000</td>\n",
       "    </tr>\n",
       "    <tr>\n",
       "      <th>max</th>\n",
       "      <td>88.976200</td>\n",
       "      <td>100.000000</td>\n",
       "      <td>27.740000</td>\n",
       "      <td>1.000000</td>\n",
       "      <td>0.871000</td>\n",
       "      <td>8.780000</td>\n",
       "      <td>100.000000</td>\n",
       "      <td>12.126500</td>\n",
       "      <td>24.000000</td>\n",
       "      <td>711.000000</td>\n",
       "      <td>22.000000</td>\n",
       "      <td>396.900000</td>\n",
       "      <td>37.970000</td>\n",
       "      <td>50.000000</td>\n",
       "    </tr>\n",
       "  </tbody>\n",
       "</table>\n",
       "</div>"
      ],
      "text/plain": [
       "             CRIM          ZN       INDUS        CHAS         NOX          RM  \\\n",
       "count  506.000000  506.000000  506.000000  506.000000  506.000000  506.000000   \n",
       "mean     3.613524   11.363636   11.136779    0.069170    0.554695    6.284634   \n",
       "std      8.601545   23.322453    6.860353    0.253994    0.115878    0.702617   \n",
       "min      0.006320    0.000000    0.460000    0.000000    0.385000    3.561000   \n",
       "25%      0.082045    0.000000    5.190000    0.000000    0.449000    5.885500   \n",
       "50%      0.256510    0.000000    9.690000    0.000000    0.538000    6.208500   \n",
       "75%      3.677083   12.500000   18.100000    0.000000    0.624000    6.623500   \n",
       "max     88.976200  100.000000   27.740000    1.000000    0.871000    8.780000   \n",
       "\n",
       "              AGE         DIS         RAD         TAX     PTRATIO           B  \\\n",
       "count  506.000000  506.000000  506.000000  506.000000  506.000000  506.000000   \n",
       "mean    68.574901    3.795043    9.549407  408.237154   18.455534  356.674032   \n",
       "std     28.148861    2.105710    8.707259  168.537116    2.164946   91.294864   \n",
       "min      2.900000    1.129600    1.000000  187.000000   12.600000    0.320000   \n",
       "25%     45.025000    2.100175    4.000000  279.000000   17.400000  375.377500   \n",
       "50%     77.500000    3.207450    5.000000  330.000000   19.050000  391.440000   \n",
       "75%     94.075000    5.188425   24.000000  666.000000   20.200000  396.225000   \n",
       "max    100.000000   12.126500   24.000000  711.000000   22.000000  396.900000   \n",
       "\n",
       "            LSTAT       PRICE  \n",
       "count  506.000000  506.000000  \n",
       "mean    12.653063   22.532806  \n",
       "std      7.141062    9.197104  \n",
       "min      1.730000    5.000000  \n",
       "25%      6.950000   17.025000  \n",
       "50%     11.360000   21.200000  \n",
       "75%     16.955000   25.000000  \n",
       "max     37.970000   50.000000  "
      ]
     },
     "execution_count": 17,
     "metadata": {},
     "output_type": "execute_result"
    }
   ],
   "source": [
    "boston.describe()"
   ]
  },
  {
   "cell_type": "markdown",
   "metadata": {},
   "source": [
    "#### Before going to machine learning algorithms, we should understand the data a  bit more."
   ]
  },
  {
   "cell_type": "code",
   "execution_count": 18,
   "metadata": {},
   "outputs": [
    {
     "data": {
      "text/plain": [
       "<AxesSubplot:>"
      ]
     },
     "execution_count": 18,
     "metadata": {},
     "output_type": "execute_result"
    },
    {
     "data": {
      "image/png": "[encoded data removed]",
      "text/plain": [
       "<Figure size 432x288 with 2 Axes>"
      ]
     },
     "metadata": {
      "needs_background": "light"
     },
     "output_type": "display_data"
    }
   ],
   "source": [
    "# Correlation between Different features\n",
    "sns.heatmap(boston.corr())"
   ]
  },
  {
   "cell_type": "code",
   "execution_count": 19,
   "metadata": {},
   "outputs": [
    {
     "data": {
      "text/plain": [
       "<seaborn.axisgrid.FacetGrid at 0x7fbf02b87590>"
      ]
     },
     "execution_count": 19,
     "metadata": {},
     "output_type": "execute_result"
    },
    {
     "data": {
      "image/png": "[encoded data removed]",
      "text/plain": [
       "<Figure size 360x360 with 1 Axes>"
      ]
     },
     "metadata": {
      "needs_background": "light"
     },
     "output_type": "display_data"
    }
   ],
   "source": [
    "# Distributing of PRICE Column\n",
    "sns.displot(boston['PRICE'])"
   ]
  },
  {
   "cell_type": "markdown",
   "metadata": {},
   "source": [
    "#### Task-4: try yourself to distribute two other columns (e.g., number of rooms, nitric oxides concentration) (10 points)"
   ]
  },
  {
   "cell_type": "code",
   "execution_count": 20,
   "metadata": {},
   "outputs": [
    {
     "data": {
      "text/plain": [
       "<seaborn.axisgrid.FacetGrid at 0x7fbf02ae23d0>"
      ]
     },
     "execution_count": 20,
     "metadata": {},
     "output_type": "execute_result"
    },
    {
     "data": {
      "image/png": "[encoded data removed]",
      "text/plain": [
       "<Figure size 360x360 with 1 Axes>"
      ]
     },
     "metadata": {
      "needs_background": "light"
     },
     "output_type": "display_data"
    },
    {
     "data": {
      "image/png": "[encoded data removed]",
      "text/plain": [
       "<Figure size 360x360 with 1 Axes>"
      ]
     },
     "metadata": {
      "needs_background": "light"
     },
     "output_type": "display_data"
    }
   ],
   "source": [
    "sns.displot(boston['RM'])\n",
    "sns.displot(boston['NOX'])"
   ]
  },
  {
   "cell_type": "markdown",
   "metadata": {},
   "source": [
    "#### Now, let's try machine learning regression models. "
   ]
  },
  {
   "cell_type": "markdown",
   "metadata": {},
   "source": [
    "## Algorithm1: Linear Regression"
   ]
  },
  {
   "cell_type": "code",
   "execution_count": 21,
   "metadata": {},
   "outputs": [],
   "source": [
    "# Creating Predictor variable 'X' and Target Variable 'y'\n",
    "\n",
    "# X contains all the features except for the target value Price\n",
    "X = boston.drop('PRICE', axis = 1)\n",
    "y = boston['PRICE']"
   ]
  },
  {
   "cell_type": "code",
   "execution_count": 22,
   "metadata": {},
   "outputs": [],
   "source": [
    "from sklearn.model_selection import train_test_split\n",
    "from sklearn.linear_model import LinearRegression"
   ]
  },
  {
   "cell_type": "markdown",
   "metadata": {},
   "source": [
    "#### Task-5: complete the following line of code which splits the data into training and test set: X_train contains 70% of total dataset, X_test contains 30% (10 points)"
   ]
  },
  {
   "cell_type": "code",
   "execution_count": 23,
   "metadata": {},
   "outputs": [
    {
     "name": "stdout",
     "output_type": "stream",
     "text": [
      "(354, 13)\n",
      "(152, 13)\n"
     ]
    }
   ],
   "source": [
    "X_train, X_test, y_train, y_test = train_test_split(X, y, test_size=0.3, random_state=0)\n",
    "\n",
    "# X_train contains 70% of total dataset\n",
    "print(X_train.shape)\n",
    "# X_test contains 30% of total dataset\n",
    "print(X_test.shape)"
   ]
  },
  {
   "cell_type": "code",
   "execution_count": 24,
   "metadata": {},
   "outputs": [],
   "source": [
    "lr = LinearRegression()"
   ]
  },
  {
   "cell_type": "markdown",
   "metadata": {},
   "source": [
    "#### Task-6: fit the training dataset into linear regression model. (7.5 points)"
   ]
  },
  {
   "cell_type": "code",
   "execution_count": 25,
   "metadata": {},
   "outputs": [
    {
     "data": {
      "text/plain": [
       "LinearRegression()"
      ]
     },
     "execution_count": 25,
     "metadata": {},
     "output_type": "execute_result"
    }
   ],
   "source": [
    "#Train/fit the model to training data\n",
    "lr.fit(X_train, y_train)"
   ]
  },
  {
   "cell_type": "code",
   "execution_count": 26,
   "metadata": {},
   "outputs": [
    {
     "name": "stdout",
     "output_type": "stream",
     "text": [
      "37.937107741833294\n"
     ]
    },
    {
     "data": {
      "text/html": [
       "<div>\n",
       "<style scoped>\n",
       "    .dataframe tbody tr th:only-of-type {\n",
       "        vertical-align: middle;\n",
       "    }\n",
       "\n",
       "    .dataframe tbody tr th {\n",
       "        vertical-align: top;\n",
       "    }\n",
       "\n",
       "    .dataframe thead th {\n",
       "        text-align: right;\n",
       "    }\n",
       "</style>\n",
       "<table border=\"1\" class=\"dataframe\">\n",
       "  <thead>\n",
       "    <tr style=\"text-align: right;\">\n",
       "      <th></th>\n",
       "      <th>Coefficient</th>\n",
       "    </tr>\n",
       "  </thead>\n",
       "  <tbody>\n",
       "    <tr>\n",
       "      <th>CRIM</th>\n",
       "      <td>-0.121310</td>\n",
       "    </tr>\n",
       "    <tr>\n",
       "      <th>ZN</th>\n",
       "      <td>0.044466</td>\n",
       "    </tr>\n",
       "    <tr>\n",
       "      <th>INDUS</th>\n",
       "      <td>0.011342</td>\n",
       "    </tr>\n",
       "    <tr>\n",
       "      <th>CHAS</th>\n",
       "      <td>2.511246</td>\n",
       "    </tr>\n",
       "    <tr>\n",
       "      <th>NOX</th>\n",
       "      <td>-16.231253</td>\n",
       "    </tr>\n",
       "    <tr>\n",
       "      <th>RM</th>\n",
       "      <td>3.859068</td>\n",
       "    </tr>\n",
       "    <tr>\n",
       "      <th>AGE</th>\n",
       "      <td>-0.009985</td>\n",
       "    </tr>\n",
       "    <tr>\n",
       "      <th>DIS</th>\n",
       "      <td>-1.500270</td>\n",
       "    </tr>\n",
       "    <tr>\n",
       "      <th>RAD</th>\n",
       "      <td>0.242143</td>\n",
       "    </tr>\n",
       "    <tr>\n",
       "      <th>TAX</th>\n",
       "      <td>-0.011072</td>\n",
       "    </tr>\n",
       "    <tr>\n",
       "      <th>PTRATIO</th>\n",
       "      <td>-1.017753</td>\n",
       "    </tr>\n",
       "    <tr>\n",
       "      <th>B</th>\n",
       "      <td>0.006814</td>\n",
       "    </tr>\n",
       "    <tr>\n",
       "      <th>LSTAT</th>\n",
       "      <td>-0.486738</td>\n",
       "    </tr>\n",
       "  </tbody>\n",
       "</table>\n",
       "</div>"
      ],
      "text/plain": [
       "         Coefficient\n",
       "CRIM       -0.121310\n",
       "ZN          0.044466\n",
       "INDUS       0.011342\n",
       "CHAS        2.511246\n",
       "NOX       -16.231253\n",
       "RM          3.859068\n",
       "AGE        -0.009985\n",
       "DIS        -1.500270\n",
       "RAD         0.242143\n",
       "TAX        -0.011072\n",
       "PTRATIO    -1.017753\n",
       "B           0.006814\n",
       "LSTAT      -0.486738"
      ]
     },
     "execution_count": 26,
     "metadata": {},
     "output_type": "execute_result"
    }
   ],
   "source": [
    "# print the intercept\n",
    "print(lr.intercept_)\n",
    "\n",
    "#Coefficients\n",
    "coeff_df = pd.DataFrame(lr.coef_,X.columns,columns=['Coefficient'])\n",
    "coeff_df"
   ]
  },
  {
   "cell_type": "markdown",
   "metadata": {},
   "source": [
    "#### Task-7: complete the following line of codes which use the trained model above to predict the house prices on test dataset, and output the prediction result as \"pred\". (5 points)"
   ]
  },
  {
   "cell_type": "code",
   "execution_count": 27,
   "metadata": {},
   "outputs": [],
   "source": [
    "pred = lr.predict(X_test)"
   ]
  },
  {
   "cell_type": "code",
   "execution_count": 28,
   "metadata": {},
   "outputs": [
    {
     "data": {
      "text/plain": [
       "Text(0, 0.5, 'Predicted prices')"
      ]
     },
     "execution_count": 28,
     "metadata": {},
     "output_type": "execute_result"
    },
    {
     "data": {
      "image/png": "[encoded data removed]",
      "text/plain": [
       "<Figure size 432x288 with 1 Axes>"
      ]
     },
     "metadata": {
      "needs_background": "light"
     },
     "output_type": "display_data"
    }
   ],
   "source": [
    "plt.scatter(y_test,pred)\n",
    "plt.xlabel(\"Prices\")\n",
    "plt.ylabel(\"Predicted prices\")"
   ]
  },
  {
   "cell_type": "code",
   "execution_count": 29,
   "metadata": {},
   "outputs": [
    {
     "name": "stdout",
     "output_type": "stream",
     "text": [
      "MAE: 3.609904060381819\n",
      "MSE: 27.195965766883308\n",
      "RMSE: 5.214975145375413\n"
     ]
    }
   ],
   "source": [
    "# evaluating and outputing the results using different evaluation metrics (i.e., MAE, MSE, RMSE).\n",
    "from sklearn import metrics\n",
    "print('MAE:', metrics.mean_absolute_error(y_test, pred))\n",
    "print('MSE:', metrics.mean_squared_error(y_test, pred))\n",
    "print('RMSE:', np.sqrt(metrics.mean_squared_error(y_test, pred)))"
   ]
  },
  {
   "cell_type": "markdown",
   "metadata": {},
   "source": [
    "#### Task-8: Try Ridge or Lasso regressions  (set alpha=1.0) in the following steps. (20 points)"
   ]
  },
  {
   "cell_type": "code",
   "execution_count": 30,
   "metadata": {},
   "outputs": [
    {
     "name": "stdout",
     "output_type": "stream",
     "text": [
      "RMSE: 5.268987055608174\n"
     ]
    }
   ],
   "source": [
    "from sklearn.linear_model import Ridge\n",
    "from sklearn.linear_model import Lasso\n",
    "\n",
    "#step-1: Create a ridge or lasso regression model\n",
    "reg = Ridge(alpha=1.0)\n",
    "\n",
    "#step-2: Fit to our training data (i.e., X_train and y_train)\n",
    "reg.fit(X_train, y_train)\n",
    "\n",
    "#step-3: Apply the model too predict on our testing data (i.e., X_test)\n",
    "pred = reg.predict(X_test)\n",
    "    \n",
    "#step-4: Print prediction performance RMSE\n",
    "print('RMSE:', np.sqrt(metrics.mean_squared_error(y_test, pred)))\n"
   ]
  },
  {
   "cell_type": "markdown",
   "metadata": {},
   "source": [
    "#### Question: Is Ridge regression and Lasso regression linear regression?  What is differnece between Ridge and Lasso regressions? (7.5 points)"
   ]
  },
  {
   "cell_type": "markdown",
   "metadata": {},
   "source": [
    "Answer: Yes they are types of linear regression, it's basicly a linear regression algorithm that has added in penalties for biases into the equation, that is, decreasing high variance outcomes (overfitting on training data) by introducing a 'bias term' to the model. The difference between Ridge and Lasso regression is the shape of that 'bias term', Ridge: lambda * slope^2, Lasso: lambda * |slope|."
   ]
  },
  {
   "cell_type": "markdown",
   "metadata": {},
   "source": [
    "## Algorithm2: Neural Networks - Regression"
   ]
  },
  {
   "cell_type": "code",
   "execution_count": 31,
   "metadata": {},
   "outputs": [],
   "source": [
    "X = boston.drop('PRICE', axis = 1)\n",
    "Y = boston['PRICE']"
   ]
  },
  {
   "cell_type": "code",
   "execution_count": 32,
   "metadata": {},
   "outputs": [],
   "source": [
    "from sklearn import preprocessing"
   ]
  },
  {
   "cell_type": "markdown",
   "metadata": {},
   "source": [
    "#### Task-9: complete the following codes which apply the preprocessing method MinMaxScaler to scale the given training data X  and assign the scaled training data to variable X_scale. (10 points)"
   ]
  },
  {
   "cell_type": "code",
   "execution_count": 33,
   "metadata": {},
   "outputs": [],
   "source": [
    "min_max_scaler = preprocessing.MinMaxScaler()\n",
    "X_scale = min_max_scaler.fit_transform(X)"
   ]
  },
  {
   "cell_type": "markdown",
   "metadata": {},
   "source": [
    "#### Task-10: complete the following codes which first split the training data into training and validation_test sets (e.g., 70/30), then split the validation_test set into validation and test (e.g.,50/50). (10 points)"
   ]
  },
  {
   "cell_type": "code",
   "execution_count": 34,
   "metadata": {},
   "outputs": [
    {
     "name": "stdout",
     "output_type": "stream",
     "text": [
      "(354, 13) (76, 13) (76, 13) (354,) (76,) (76,)\n"
     ]
    }
   ],
   "source": [
    "from sklearn.model_selection import train_test_split\n",
    "X_train, X_val_and_test, Y_train, Y_val_and_test =  train_test_split(X_scale, Y, test_size=0.3, random_state=0)\n",
    "X_val, X_test, Y_val, Y_test = train_test_split(X_val_and_test, Y_val_and_test, test_size=0.5, random_state=0)\n",
    "print(X_train.shape, X_val.shape, X_test.shape, Y_train.shape, Y_val.shape, Y_test.shape)"
   ]
  },
  {
   "cell_type": "code",
   "execution_count": 35,
   "metadata": {},
   "outputs": [],
   "source": [
    "# import libraries of tensorflow to build neurral networks.\n",
    "import tensorflow as tf\n",
    "from tensorflow.keras.models import Sequential\n",
    "from tensorflow.keras.layers import Dense"
   ]
  },
  {
   "cell_type": "markdown",
   "metadata": {},
   "source": [
    "#### Task-11: complete the following codes which build a two layers neural network model by using Sequential. (10 points)\n",
    "#### FYI: https://www.tensorflow.org/api_docs/python/tf/keras/Sequential"
   ]
  },
  {
   "cell_type": "code",
   "execution_count": 38,
   "metadata": {},
   "outputs": [],
   "source": [
    "# Build model\n",
    "model = Sequential([\n",
    "    Dense(8, input_shape=[X_train.shape[1]]),\n",
    "    Dense(1)\n",
    "])"
   ]
  },
  {
   "cell_type": "markdown",
   "metadata": {},
   "source": [
    "#### Task-12: compile the model (use mean_squared_error as loss function, and apply metrics=['mse', 'mae', 'mape'])  (7.5 points)"
   ]
  },
  {
   "cell_type": "code",
   "execution_count": 40,
   "metadata": {},
   "outputs": [],
   "source": [
    "# Compile model\n",
    "model.compile(loss='mse', metrics=['mse', 'mae', 'mape'])"
   ]
  },
  {
   "cell_type": "markdown",
   "metadata": {},
   "source": [
    "#### Task-13: compelte the following codes which train/fit the model using the function of fit  (both training data and valiation data will be used)  (7.5 points)"
   ]
  },
  {
   "cell_type": "code",
   "execution_count": 41,
   "metadata": {},
   "outputs": [
    {
     "name": "stdout",
     "output_type": "stream",
     "text": [
      "Epoch 1/100\n",
      "12/12 [==============================] - 1s 24ms/step - loss: 593.2709 - mse: 593.2709 - mae: 22.7486 - mape: 100.8341 - val_loss: 556.1929 - val_mse: 556.1929 - val_mae: 21.5380 - val_mape: 100.5881\n",
      "Epoch 2/100\n",
      "12/12 [==============================] - 0s 5ms/step - loss: 595.4945 - mse: 595.4945 - mae: 22.5998 - mape: 100.0717 - val_loss: 550.1823 - val_mse: 550.1823 - val_mae: 21.3875 - val_mape: 99.6437\n",
      "Epoch 3/100\n",
      "12/12 [==============================] - 0s 4ms/step - loss: 542.6978 - mse: 542.6978 - mae: 21.5735 - mape: 99.2588 - val_loss: 544.2292 - val_mse: 544.2292 - val_mae: 21.2382 - val_mape: 98.7097\n",
      "Epoch 4/100\n",
      "12/12 [==============================] - 0s 5ms/step - loss: 575.1645 - mse: 575.1645 - mae: 22.3614 - mape: 98.3858 - val_loss: 538.2887 - val_mse: 538.2887 - val_mae: 21.0877 - val_mape: 97.7660\n",
      "Epoch 5/100\n",
      "12/12 [==============================] - 0s 4ms/step - loss: 558.5720 - mse: 558.5720 - mae: 21.8161 - mape: 97.5574 - val_loss: 532.1230 - val_mse: 532.1230 - val_mae: 20.9316 - val_mape: 96.7964\n",
      "Epoch 6/100\n",
      "12/12 [==============================] - 0s 5ms/step - loss: 564.7317 - mse: 564.7317 - mae: 22.0905 - mape: 96.7249 - val_loss: 525.8990 - val_mse: 525.8990 - val_mae: 20.7733 - val_mape: 95.8148\n",
      "Epoch 7/100\n",
      "12/12 [==============================] - 0s 4ms/step - loss: 584.2692 - mse: 584.2692 - mae: 22.3062 - mape: 95.9863 - val_loss: 519.4188 - val_mse: 519.4188 - val_mae: 20.6052 - val_mape: 94.7623\n",
      "Epoch 8/100\n",
      "12/12 [==============================] - 0s 4ms/step - loss: 549.1875 - mse: 549.1875 - mae: 21.6345 - mape: 95.0171 - val_loss: 513.3714 - val_mse: 513.3714 - val_mae: 20.4482 - val_mape: 93.7888\n",
      "Epoch 9/100\n",
      "12/12 [==============================] - 0s 5ms/step - loss: 538.1545 - mse: 538.1545 - mae: 21.1900 - mape: 93.9299 - val_loss: 506.7635 - val_mse: 506.7635 - val_mae: 20.2748 - val_mape: 92.7102\n",
      "Epoch 10/100\n",
      "12/12 [==============================] - 0s 5ms/step - loss: 520.7613 - mse: 520.7613 - mae: 21.0715 - mape: 93.2280 - val_loss: 499.8842 - val_mse: 499.8842 - val_mae: 20.0939 - val_mape: 91.5943\n",
      "Epoch 11/100\n",
      "12/12 [==============================] - 0s 4ms/step - loss: 526.4146 - mse: 526.4146 - mae: 21.1200 - mape: 92.3104 - val_loss: 493.2888 - val_mse: 493.2888 - val_mae: 19.9176 - val_mape: 90.4999\n",
      "Epoch 12/100\n",
      "12/12 [==============================] - 0s 4ms/step - loss: 524.6159 - mse: 524.6159 - mae: 21.0530 - mape: 91.4742 - val_loss: 486.0373 - val_mse: 486.0373 - val_mae: 19.7231 - val_mape: 89.3023\n",
      "Epoch 13/100\n",
      "12/12 [==============================] - 0s 4ms/step - loss: 536.8683 - mse: 536.8683 - mae: 21.1658 - mape: 90.3256 - val_loss: 479.0208 - val_mse: 479.0208 - val_mae: 19.5360 - val_mape: 88.1730\n",
      "Epoch 14/100\n",
      "12/12 [==============================] - 0s 4ms/step - loss: 468.9180 - mse: 468.9180 - mae: 19.7690 - mape: 88.8844 - val_loss: 471.9669 - val_mse: 471.9669 - val_mae: 19.3456 - val_mape: 87.0199\n",
      "Epoch 15/100\n",
      "12/12 [==============================] - 0s 4ms/step - loss: 509.6399 - mse: 509.6399 - mae: 20.3413 - mape: 87.9409 - val_loss: 464.2890 - val_mse: 464.2890 - val_mae: 19.1366 - val_mape: 85.7573\n",
      "Epoch 16/100\n",
      "12/12 [==============================] - 0s 4ms/step - loss: 504.8157 - mse: 504.8157 - mae: 20.3037 - mape: 87.1789 - val_loss: 456.7556 - val_mse: 456.7556 - val_mae: 18.9294 - val_mape: 84.5069\n",
      "Epoch 17/100\n",
      "12/12 [==============================] - 0s 4ms/step - loss: 446.5289 - mse: 446.5289 - mae: 19.2100 - mape: 85.5238 - val_loss: 449.1633 - val_mse: 449.1633 - val_mae: 18.7184 - val_mape: 83.2361\n",
      "Epoch 18/100\n",
      "12/12 [==============================] - 0s 5ms/step - loss: 475.5910 - mse: 475.5910 - mae: 19.8340 - mape: 85.0838 - val_loss: 441.3667 - val_mse: 441.3667 - val_mae: 18.5011 - val_mape: 81.9347\n",
      "Epoch 19/100\n",
      "12/12 [==============================] - 0s 4ms/step - loss: 472.7168 - mse: 472.7168 - mae: 19.6761 - mape: 83.6751 - val_loss: 433.3180 - val_mse: 433.3180 - val_mae: 18.2710 - val_mape: 80.5382\n",
      "Epoch 20/100\n",
      "12/12 [==============================] - 0s 4ms/step - loss: 480.6435 - mse: 480.6435 - mae: 19.5447 - mape: 82.3310 - val_loss: 425.1577 - val_mse: 425.1577 - val_mae: 18.0376 - val_mape: 79.1381\n",
      "Epoch 21/100\n",
      "12/12 [==============================] - 0s 5ms/step - loss: 447.9206 - mse: 447.9206 - mae: 19.0024 - mape: 81.2570 - val_loss: 416.8942 - val_mse: 416.8942 - val_mae: 17.7961 - val_mape: 77.6794\n",
      "Epoch 22/100\n",
      "12/12 [==============================] - 0s 4ms/step - loss: 444.1908 - mse: 444.1908 - mae: 18.8879 - mape: 80.2404 - val_loss: 408.4793 - val_mse: 408.4793 - val_mae: 17.5466 - val_mape: 76.1753\n",
      "Epoch 23/100\n",
      "12/12 [==============================] - 0s 4ms/step - loss: 448.9502 - mse: 448.9502 - mae: 18.7787 - mape: 78.8360 - val_loss: 399.8553 - val_mse: 399.8553 - val_mae: 17.2878 - val_mape: 74.6195\n",
      "Epoch 24/100\n",
      "12/12 [==============================] - 0s 11ms/step - loss: 424.0034 - mse: 424.0034 - mae: 18.4027 - mape: 77.3927 - val_loss: 391.0909 - val_mse: 391.0909 - val_mae: 17.0214 - val_mape: 73.0219\n",
      "Epoch 25/100\n",
      "12/12 [==============================] - 0s 5ms/step - loss: 432.6689 - mse: 432.6689 - mae: 18.2057 - mape: 75.2485 - val_loss: 382.1109 - val_mse: 382.1109 - val_mae: 16.7480 - val_mape: 71.4562\n",
      "Epoch 26/100\n",
      "12/12 [==============================] - 0s 4ms/step - loss: 379.8230 - mse: 379.8230 - mae: 17.2556 - mape: 74.0763 - val_loss: 373.2662 - val_mse: 373.2662 - val_mae: 16.4782 - val_mape: 69.9466\n",
      "Epoch 27/100\n",
      "12/12 [==============================] - 0s 4ms/step - loss: 356.3450 - mse: 356.3450 - mae: 16.9045 - mape: 73.1953 - val_loss: 364.7467 - val_mse: 364.7467 - val_mae: 16.2121 - val_mape: 68.4523\n",
      "Epoch 28/100\n",
      "12/12 [==============================] - 0s 4ms/step - loss: 381.3603 - mse: 381.3603 - mae: 17.1103 - mape: 71.5457 - val_loss: 356.2438 - val_mse: 356.2438 - val_mae: 15.9410 - val_mape: 66.9272\n",
      "Epoch 29/100\n",
      "12/12 [==============================] - 0s 4ms/step - loss: 387.7945 - mse: 387.7945 - mae: 17.2488 - mape: 70.5706 - val_loss: 347.5344 - val_mse: 347.5344 - val_mae: 15.6583 - val_mape: 65.3385\n",
      "Epoch 30/100\n",
      "12/12 [==============================] - 0s 5ms/step - loss: 362.6066 - mse: 362.6066 - mae: 16.7289 - mape: 69.3744 - val_loss: 338.4993 - val_mse: 338.4993 - val_mae: 15.3640 - val_mape: 63.7271\n",
      "Epoch 31/100\n",
      "12/12 [==============================] - 0s 5ms/step - loss: 368.8027 - mse: 368.8027 - mae: 16.5193 - mape: 67.1674 - val_loss: 329.6894 - val_mse: 329.6894 - val_mae: 15.0869 - val_mape: 62.3405\n",
      "Epoch 32/100\n",
      "12/12 [==============================] - 0s 4ms/step - loss: 360.1852 - mse: 360.1852 - mae: 16.1890 - mape: 65.8787 - val_loss: 321.0384 - val_mse: 321.0384 - val_mae: 14.8157 - val_mape: 61.0500\n",
      "Epoch 33/100\n",
      "12/12 [==============================] - 0s 4ms/step - loss: 380.7274 - mse: 380.7274 - mae: 16.6505 - mape: 65.5516 - val_loss: 312.3556 - val_mse: 312.3556 - val_mae: 14.5471 - val_mape: 59.8425\n",
      "Epoch 34/100\n",
      "12/12 [==============================] - 0s 4ms/step - loss: 342.8181 - mse: 342.8181 - mae: 15.7807 - mape: 63.5063 - val_loss: 303.4461 - val_mse: 303.4461 - val_mae: 14.2759 - val_mape: 58.7072\n",
      "Epoch 35/100\n",
      "12/12 [==============================] - 0s 5ms/step - loss: 329.0082 - mse: 329.0082 - mae: 15.3113 - mape: 61.5375 - val_loss: 294.9200 - val_mse: 294.9200 - val_mae: 14.0097 - val_mape: 57.5937\n",
      "Epoch 36/100\n",
      "12/12 [==============================] - 0s 4ms/step - loss: 325.3790 - mse: 325.3790 - mae: 15.3100 - mape: 61.2542 - val_loss: 286.0300 - val_mse: 286.0300 - val_mae: 13.7289 - val_mape: 56.4430\n",
      "Epoch 37/100\n",
      "12/12 [==============================] - 0s 5ms/step - loss: 314.3707 - mse: 314.3707 - mae: 15.1055 - mape: 60.5971 - val_loss: 277.5294 - val_mse: 277.5294 - val_mae: 13.4590 - val_mape: 55.3838\n",
      "Epoch 38/100\n",
      "12/12 [==============================] - 0s 4ms/step - loss: 336.1268 - mse: 336.1268 - mae: 15.0562 - mape: 57.8226 - val_loss: 269.4055 - val_mse: 269.4055 - val_mae: 13.1931 - val_mape: 54.3408\n",
      "Epoch 39/100\n",
      "12/12 [==============================] - 0s 3ms/step - loss: 291.1801 - mse: 291.1801 - mae: 14.3258 - mape: 57.3687 - val_loss: 260.5686 - val_mse: 260.5686 - val_mae: 12.8999 - val_mape: 53.2145\n",
      "Epoch 40/100\n"
     ]
    },
    {
     "name": "stdout",
     "output_type": "stream",
     "text": [
      "12/12 [==============================] - 0s 4ms/step - loss: 287.3931 - mse: 287.3931 - mae: 13.9109 - mape: 54.5265 - val_loss: 252.5572 - val_mse: 252.5572 - val_mae: 12.6307 - val_mape: 52.2212\n",
      "Epoch 41/100\n",
      "12/12 [==============================] - 0s 4ms/step - loss: 296.3155 - mse: 296.3155 - mae: 14.0672 - mape: 54.4025 - val_loss: 244.2320 - val_mse: 244.2320 - val_mae: 12.3453 - val_mape: 51.1920\n",
      "Epoch 42/100\n",
      "12/12 [==============================] - 0s 4ms/step - loss: 269.5036 - mse: 269.5036 - mae: 13.4550 - mape: 52.8352 - val_loss: 237.0343 - val_mse: 237.0343 - val_mae: 12.1115 - val_mape: 50.4612\n",
      "Epoch 43/100\n",
      "12/12 [==============================] - 0s 4ms/step - loss: 260.9355 - mse: 260.9355 - mae: 13.2426 - mape: 52.7247 - val_loss: 229.6218 - val_mse: 229.6218 - val_mae: 11.8806 - val_mape: 49.8367\n",
      "Epoch 44/100\n",
      "12/12 [==============================] - 0s 3ms/step - loss: 260.3596 - mse: 260.3596 - mae: 13.2101 - mape: 52.2524 - val_loss: 221.7063 - val_mse: 221.7063 - val_mae: 11.6390 - val_mape: 49.2495\n",
      "Epoch 45/100\n",
      "12/12 [==============================] - 0s 5ms/step - loss: 256.8544 - mse: 256.8544 - mae: 12.7174 - mape: 49.1012 - val_loss: 214.4425 - val_mse: 214.4425 - val_mae: 11.4307 - val_mape: 48.8670\n",
      "Epoch 46/100\n",
      "12/12 [==============================] - 0s 4ms/step - loss: 240.1692 - mse: 240.1692 - mae: 12.3153 - mape: 48.4508 - val_loss: 207.8934 - val_mse: 207.8934 - val_mae: 11.2449 - val_mape: 48.5838\n",
      "Epoch 47/100\n",
      "12/12 [==============================] - 0s 4ms/step - loss: 238.0214 - mse: 238.0214 - mae: 12.0409 - mape: 46.6519 - val_loss: 200.6043 - val_mse: 200.6043 - val_mae: 11.0353 - val_mape: 48.2937\n",
      "Epoch 48/100\n",
      "12/12 [==============================] - 0s 4ms/step - loss: 205.7859 - mse: 205.7859 - mae: 11.3555 - mape: 45.5865 - val_loss: 194.0900 - val_mse: 194.0900 - val_mae: 10.8478 - val_mape: 48.0940\n",
      "Epoch 49/100\n",
      "12/12 [==============================] - 0s 4ms/step - loss: 219.0906 - mse: 219.0906 - mae: 11.6622 - mape: 48.4063 - val_loss: 187.9155 - val_mse: 187.9155 - val_mae: 10.6708 - val_mape: 47.9559\n",
      "Epoch 50/100\n",
      "12/12 [==============================] - 0s 4ms/step - loss: 203.3849 - mse: 203.3849 - mae: 11.0747 - mape: 43.7496 - val_loss: 182.6525 - val_mse: 182.6525 - val_mae: 10.5167 - val_mape: 47.8586\n",
      "Epoch 51/100\n",
      "12/12 [==============================] - 0s 4ms/step - loss: 214.1846 - mse: 214.1846 - mae: 11.3914 - mape: 44.0872 - val_loss: 177.4191 - val_mse: 177.4191 - val_mae: 10.3592 - val_mape: 47.7729\n",
      "Epoch 52/100\n",
      "12/12 [==============================] - 0s 4ms/step - loss: 192.3173 - mse: 192.3173 - mae: 10.8141 - mape: 44.6653 - val_loss: 171.5133 - val_mse: 171.5133 - val_mae: 10.1800 - val_mape: 47.7608\n",
      "Epoch 53/100\n",
      "12/12 [==============================] - 0s 4ms/step - loss: 203.5247 - mse: 203.5247 - mae: 10.9656 - mape: 43.9418 - val_loss: 166.5764 - val_mse: 166.5764 - val_mae: 10.0253 - val_mape: 47.7810\n",
      "Epoch 54/100\n",
      "12/12 [==============================] - 0s 4ms/step - loss: 165.6825 - mse: 165.6825 - mae: 9.8155 - mape: 41.1073 - val_loss: 161.7193 - val_mse: 161.7193 - val_mae: 9.8802 - val_mape: 47.9118\n",
      "Epoch 55/100\n",
      "12/12 [==============================] - 0s 4ms/step - loss: 155.9198 - mse: 155.9198 - mae: 9.6802 - mape: 43.4326 - val_loss: 157.5802 - val_mse: 157.5802 - val_mae: 9.7665 - val_mape: 48.1441\n",
      "Epoch 56/100\n",
      "12/12 [==============================] - 0s 4ms/step - loss: 165.2543 - mse: 165.2543 - mae: 9.8312 - mape: 40.7310 - val_loss: 154.0604 - val_mse: 154.0604 - val_mae: 9.6656 - val_mape: 48.3173\n",
      "Epoch 57/100\n",
      "12/12 [==============================] - 0s 12ms/step - loss: 160.8155 - mse: 160.8155 - mae: 9.7560 - mape: 42.4144 - val_loss: 149.8598 - val_mse: 149.8598 - val_mae: 9.5450 - val_mape: 48.6536\n",
      "Epoch 58/100\n",
      "12/12 [==============================] - 0s 6ms/step - loss: 166.4957 - mse: 166.4957 - mae: 9.9922 - mape: 44.1171 - val_loss: 146.9507 - val_mse: 146.9507 - val_mae: 9.4636 - val_mape: 48.9781\n",
      "Epoch 59/100\n",
      "12/12 [==============================] - 0s 5ms/step - loss: 161.9557 - mse: 161.9557 - mae: 9.4233 - mape: 40.2068 - val_loss: 144.2892 - val_mse: 144.2892 - val_mae: 9.3867 - val_mape: 49.2816\n",
      "Epoch 60/100\n",
      "12/12 [==============================] - 0s 4ms/step - loss: 164.7413 - mse: 164.7413 - mae: 9.7251 - mape: 42.0026 - val_loss: 141.3948 - val_mse: 141.3948 - val_mae: 9.3053 - val_mape: 49.7171\n",
      "Epoch 61/100\n",
      "12/12 [==============================] - 0s 5ms/step - loss: 160.0262 - mse: 160.0262 - mae: 9.4641 - mape: 40.9850 - val_loss: 139.2173 - val_mse: 139.2173 - val_mae: 9.2340 - val_mape: 49.8935\n",
      "Epoch 62/100\n",
      "12/12 [==============================] - 0s 4ms/step - loss: 131.2122 - mse: 131.2122 - mae: 8.8542 - mape: 41.9619 - val_loss: 136.8093 - val_mse: 136.8093 - val_mae: 9.1491 - val_mape: 50.2004\n",
      "Epoch 63/100\n",
      "12/12 [==============================] - 0s 4ms/step - loss: 144.8522 - mse: 144.8522 - mae: 9.2969 - mape: 45.1307 - val_loss: 134.5889 - val_mse: 134.5889 - val_mae: 9.0609 - val_mape: 50.5217\n",
      "Epoch 64/100\n",
      "12/12 [==============================] - 0s 4ms/step - loss: 140.3836 - mse: 140.3836 - mae: 8.9080 - mape: 41.2978 - val_loss: 133.0092 - val_mse: 133.0092 - val_mae: 8.9918 - val_mape: 50.5483\n",
      "Epoch 65/100\n",
      "12/12 [==============================] - 0s 4ms/step - loss: 129.8287 - mse: 129.8287 - mae: 8.5547 - mape: 38.4514 - val_loss: 131.2922 - val_mse: 131.2922 - val_mae: 8.9159 - val_mape: 50.7470\n",
      "Epoch 66/100\n",
      "12/12 [==============================] - 0s 4ms/step - loss: 126.8446 - mse: 126.8446 - mae: 8.6654 - mape: 41.2553 - val_loss: 129.6651 - val_mse: 129.6651 - val_mae: 8.8456 - val_mape: 50.9709\n",
      "Epoch 67/100\n",
      "12/12 [==============================] - 0s 4ms/step - loss: 132.2982 - mse: 132.2982 - mae: 8.8239 - mape: 42.3036 - val_loss: 128.0895 - val_mse: 128.0895 - val_mae: 8.7909 - val_mape: 51.2996\n",
      "Epoch 68/100\n",
      "12/12 [==============================] - 0s 4ms/step - loss: 117.1746 - mse: 117.1746 - mae: 8.3046 - mape: 42.4565 - val_loss: 126.9023 - val_mse: 126.9023 - val_mae: 8.7474 - val_mape: 51.5478\n",
      "Epoch 69/100\n",
      "12/12 [==============================] - 0s 4ms/step - loss: 141.2810 - mse: 141.2810 - mae: 9.0006 - mape: 42.3023 - val_loss: 125.8111 - val_mse: 125.8111 - val_mae: 8.7033 - val_mape: 51.3091\n",
      "Epoch 70/100\n",
      "12/12 [==============================] - 0s 4ms/step - loss: 124.2818 - mse: 124.2818 - mae: 8.6803 - mape: 43.5990 - val_loss: 124.8061 - val_mse: 124.8061 - val_mae: 8.6610 - val_mape: 51.4360\n",
      "Epoch 71/100\n",
      "12/12 [==============================] - 0s 4ms/step - loss: 129.1530 - mse: 129.1530 - mae: 8.6443 - mape: 42.6857 - val_loss: 123.5798 - val_mse: 123.5798 - val_mae: 8.6088 - val_mape: 51.3645\n",
      "Epoch 72/100\n",
      "12/12 [==============================] - 0s 5ms/step - loss: 128.8319 - mse: 128.8319 - mae: 8.6467 - mape: 42.1835 - val_loss: 122.4090 - val_mse: 122.4090 - val_mae: 8.5601 - val_mape: 51.5410\n",
      "Epoch 73/100\n",
      "12/12 [==============================] - 0s 3ms/step - loss: 129.3319 - mse: 129.3319 - mae: 8.6816 - mape: 45.9490 - val_loss: 121.2020 - val_mse: 121.2020 - val_mae: 8.5177 - val_mape: 51.7709\n",
      "Epoch 74/100\n",
      "12/12 [==============================] - 0s 4ms/step - loss: 111.6927 - mse: 111.6927 - mae: 8.0836 - mape: 40.0227 - val_loss: 120.2366 - val_mse: 120.2366 - val_mae: 8.4815 - val_mape: 51.8108\n",
      "Epoch 75/100\n",
      "12/12 [==============================] - 0s 4ms/step - loss: 118.9870 - mse: 118.9870 - mae: 8.4246 - mape: 46.6321 - val_loss: 119.2766 - val_mse: 119.2766 - val_mae: 8.4430 - val_mape: 51.7244\n",
      "Epoch 76/100\n",
      "12/12 [==============================] - 0s 3ms/step - loss: 115.6693 - mse: 115.6693 - mae: 8.2712 - mape: 43.0186 - val_loss: 118.2332 - val_mse: 118.2332 - val_mae: 8.4055 - val_mape: 51.8242\n",
      "Epoch 77/100\n",
      "12/12 [==============================] - 0s 5ms/step - loss: 123.2045 - mse: 123.2045 - mae: 8.5592 - mape: 43.8908 - val_loss: 117.2064 - val_mse: 117.2064 - val_mae: 8.3656 - val_mape: 51.5744\n",
      "Epoch 78/100\n",
      "12/12 [==============================] - 0s 4ms/step - loss: 99.2949 - mse: 99.2949 - mae: 7.6976 - mape: 41.8917 - val_loss: 115.7511 - val_mse: 115.7511 - val_mae: 8.3039 - val_mape: 51.0581\n",
      "Epoch 79/100\n"
     ]
    },
    {
     "name": "stdout",
     "output_type": "stream",
     "text": [
      "12/12 [==============================] - 0s 3ms/step - loss: 110.9742 - mse: 110.9742 - mae: 7.9917 - mape: 40.2501 - val_loss: 114.5602 - val_mse: 114.5602 - val_mae: 8.2559 - val_mape: 50.7058\n",
      "Epoch 80/100\n",
      "12/12 [==============================] - 0s 4ms/step - loss: 127.6000 - mse: 127.6000 - mae: 8.6460 - mape: 45.5248 - val_loss: 113.6197 - val_mse: 113.6197 - val_mae: 8.2198 - val_mape: 50.5555\n",
      "Epoch 81/100\n",
      "12/12 [==============================] - 0s 4ms/step - loss: 110.0010 - mse: 110.0010 - mae: 8.0925 - mape: 42.2322 - val_loss: 112.6914 - val_mse: 112.6914 - val_mae: 8.1931 - val_mape: 50.7333\n",
      "Epoch 82/100\n",
      "12/12 [==============================] - 0s 4ms/step - loss: 108.9248 - mse: 108.9248 - mae: 8.0501 - mape: 43.1366 - val_loss: 111.4823 - val_mse: 111.4823 - val_mae: 8.1426 - val_mape: 50.4008\n",
      "Epoch 83/100\n",
      "12/12 [==============================] - 0s 4ms/step - loss: 96.8090 - mse: 96.8090 - mae: 7.5121 - mape: 40.3889 - val_loss: 110.4991 - val_mse: 110.4991 - val_mae: 8.1067 - val_mape: 50.3211\n",
      "Epoch 84/100\n",
      "12/12 [==============================] - 0s 4ms/step - loss: 108.2990 - mse: 108.2990 - mae: 8.0347 - mape: 41.3592 - val_loss: 109.4921 - val_mse: 109.4921 - val_mae: 8.0704 - val_mape: 50.3107\n",
      "Epoch 85/100\n",
      "12/12 [==============================] - 0s 4ms/step - loss: 102.2055 - mse: 102.2055 - mae: 7.6537 - mape: 39.7331 - val_loss: 108.0428 - val_mse: 108.0428 - val_mae: 8.0042 - val_mape: 49.7535\n",
      "Epoch 86/100\n",
      "12/12 [==============================] - 0s 3ms/step - loss: 95.2199 - mse: 95.2199 - mae: 7.4388 - mape: 38.3005 - val_loss: 107.2076 - val_mse: 107.2076 - val_mae: 7.9746 - val_mape: 49.8380\n",
      "Epoch 87/100\n",
      "12/12 [==============================] - 0s 5ms/step - loss: 101.9138 - mse: 101.9138 - mae: 7.9370 - mape: 41.3760 - val_loss: 106.2148 - val_mse: 106.2148 - val_mae: 7.9313 - val_mape: 49.5849\n",
      "Epoch 88/100\n",
      "12/12 [==============================] - 0s 11ms/step - loss: 97.9256 - mse: 97.9256 - mae: 7.6610 - mape: 40.2944 - val_loss: 104.7601 - val_mse: 104.7601 - val_mae: 7.8620 - val_mape: 48.9523\n",
      "Epoch 89/100\n",
      "12/12 [==============================] - 0s 4ms/step - loss: 115.1334 - mse: 115.1334 - mae: 8.0441 - mape: 39.5084 - val_loss: 103.5937 - val_mse: 103.5937 - val_mae: 7.8058 - val_mape: 48.4656\n",
      "Epoch 90/100\n",
      "12/12 [==============================] - 0s 4ms/step - loss: 104.4968 - mse: 104.4968 - mae: 7.5808 - mape: 38.6235 - val_loss: 102.6181 - val_mse: 102.6181 - val_mae: 7.7657 - val_mape: 48.4002\n",
      "Epoch 91/100\n",
      "12/12 [==============================] - 0s 4ms/step - loss: 98.3989 - mse: 98.3989 - mae: 7.5290 - mape: 37.9586 - val_loss: 101.4847 - val_mse: 101.4847 - val_mae: 7.7148 - val_mape: 48.1980\n",
      "Epoch 92/100\n",
      "12/12 [==============================] - 0s 4ms/step - loss: 93.9961 - mse: 93.9961 - mae: 7.4336 - mape: 41.2311 - val_loss: 100.3169 - val_mse: 100.3169 - val_mae: 7.6583 - val_mape: 47.7576\n",
      "Epoch 93/100\n",
      "12/12 [==============================] - 0s 3ms/step - loss: 99.2400 - mse: 99.2400 - mae: 7.5724 - mape: 41.6872 - val_loss: 99.4070 - val_mse: 99.4070 - val_mae: 7.6153 - val_mape: 47.5151\n",
      "Epoch 94/100\n",
      "12/12 [==============================] - 0s 5ms/step - loss: 112.9897 - mse: 112.9897 - mae: 8.0445 - mape: 42.2674 - val_loss: 98.2922 - val_mse: 98.2922 - val_mae: 7.5600 - val_mape: 47.0921\n",
      "Epoch 95/100\n",
      "12/12 [==============================] - 0s 4ms/step - loss: 102.7683 - mse: 102.7683 - mae: 7.4845 - mape: 37.2455 - val_loss: 97.0494 - val_mse: 97.0494 - val_mae: 7.4981 - val_mape: 46.6336\n",
      "Epoch 96/100\n",
      "12/12 [==============================] - 0s 4ms/step - loss: 94.5444 - mse: 94.5444 - mae: 7.2504 - mape: 37.5521 - val_loss: 96.0892 - val_mse: 96.0892 - val_mae: 7.4574 - val_mape: 46.5771\n",
      "Epoch 97/100\n",
      "12/12 [==============================] - 0s 4ms/step - loss: 88.2071 - mse: 88.2071 - mae: 7.0467 - mape: 37.3058 - val_loss: 94.9134 - val_mse: 94.9134 - val_mae: 7.4019 - val_mape: 46.1909\n",
      "Epoch 98/100\n",
      "12/12 [==============================] - 0s 3ms/step - loss: 104.7355 - mse: 104.7355 - mae: 7.4930 - mape: 36.2153 - val_loss: 93.8046 - val_mse: 93.8046 - val_mae: 7.3492 - val_mape: 45.8277\n",
      "Epoch 99/100\n",
      "12/12 [==============================] - 0s 4ms/step - loss: 83.2456 - mse: 83.2456 - mae: 6.7033 - mape: 36.4136 - val_loss: 92.7964 - val_mse: 92.7964 - val_mae: 7.3031 - val_mape: 45.5104\n",
      "Epoch 100/100\n",
      "12/12 [==============================] - 0s 4ms/step - loss: 96.8977 - mse: 96.8977 - mae: 7.4385 - mape: 39.9630 - val_loss: 91.9129 - val_mse: 91.9129 - val_mae: 7.2701 - val_mape: 45.4322\n"
     ]
    }
   ],
   "source": [
    "hist = model.fit(X_train, Y_train, epochs=100, validation_data=(X_val, Y_val))"
   ]
  },
  {
   "cell_type": "code",
   "execution_count": 42,
   "metadata": {},
   "outputs": [
    {
     "data": {
      "image/png": "[encoded data removed]",
      "text/plain": [
       "<Figure size 432x288 with 1 Axes>"
      ]
     },
     "metadata": {
      "needs_background": "light"
     },
     "output_type": "display_data"
    }
   ],
   "source": [
    "plt.plot(hist.history['mse'])\n",
    "plt.plot(hist.history['val_mse'])\n",
    "plt.title('Model Performance')\n",
    "plt.ylabel('MSE')\n",
    "plt.xlabel('Epoch')\n",
    "plt.legend(['Train', 'Val'], loc='upper right')\n",
    "plt.show()"
   ]
  },
  {
   "cell_type": "markdown",
   "metadata": {},
   "source": [
    "#### Task-14: evaluate the model on X_test and Y_test by applying the method 'evaluate'  (5 points)"
   ]
  },
  {
   "cell_type": "code",
   "execution_count": 43,
   "metadata": {},
   "outputs": [
    {
     "name": "stdout",
     "output_type": "stream",
     "text": [
      "3/3 [==============================] - 0s 2ms/step - loss: 69.6636 - mse: 69.6636 - mae: 5.9197 - mape: 30.1940\n"
     ]
    },
    {
     "data": {
      "text/plain": [
       "[69.66358947753906, 69.66358947753906, 5.919677734375, 30.1939697265625]"
      ]
     },
     "execution_count": 43,
     "metadata": {},
     "output_type": "execute_result"
    }
   ],
   "source": [
    "# Evaluation\n",
    "model.evaluate(X_test, Y_test)"
   ]
  },
  {
   "cell_type": "markdown",
   "metadata": {},
   "source": [
    "#### NON-mandatory task: if you have time/interest, you can visualize the prediction result and labels using scatter."
   ]
  },
  {
   "cell_type": "code",
   "execution_count": null,
   "metadata": {},
   "outputs": [],
   "source": []
  },
  {
   "cell_type": "markdown",
   "metadata": {},
   "source": [
    "#### Task-15:  complete the following codes to build the second neural network model with one more layer, compile, train, and evaluate the model.  (15 points)"
   ]
  },
  {
   "cell_type": "code",
   "execution_count": 44,
   "metadata": {},
   "outputs": [
    {
     "name": "stdout",
     "output_type": "stream",
     "text": [
      "Epoch 1/100\n",
      "12/12 [==============================] - 0s 12ms/step - loss: 600.9074 - mae: 22.6644 - mse: 600.9074 - val_loss: 556.3654 - val_mae: 21.4816 - val_mse: 556.3654\n",
      "Epoch 2/100\n",
      "12/12 [==============================] - 0s 5ms/step - loss: 634.6773 - mae: 23.1696 - mse: 634.6773 - val_loss: 551.2978 - val_mae: 21.3607 - val_mse: 551.2978\n",
      "Epoch 3/100\n",
      "12/12 [==============================] - 0s 5ms/step - loss: 620.2254 - mae: 22.9644 - mse: 620.2254 - val_loss: 545.2248 - val_mae: 21.2098 - val_mse: 545.2248\n",
      "Epoch 4/100\n",
      "12/12 [==============================] - 0s 4ms/step - loss: 630.1145 - mae: 23.1319 - mse: 630.1145 - val_loss: 537.4060 - val_mae: 21.0163 - val_mse: 537.4060\n",
      "Epoch 5/100\n",
      "12/12 [==============================] - 0s 4ms/step - loss: 593.9243 - mae: 22.4878 - mse: 593.9243 - val_loss: 529.1385 - val_mae: 20.8136 - val_mse: 529.1385\n",
      "Epoch 6/100\n",
      "12/12 [==============================] - 0s 4ms/step - loss: 589.4717 - mae: 22.3787 - mse: 589.4717 - val_loss: 520.4437 - val_mae: 20.5984 - val_mse: 520.4437\n",
      "Epoch 7/100\n",
      "12/12 [==============================] - 0s 4ms/step - loss: 556.2131 - mae: 21.7948 - mse: 556.2131 - val_loss: 510.2315 - val_mae: 20.3418 - val_mse: 510.2315\n",
      "Epoch 8/100\n",
      "12/12 [==============================] - 0s 4ms/step - loss: 560.5442 - mae: 21.5461 - mse: 560.5442 - val_loss: 499.4885 - val_mae: 20.0667 - val_mse: 499.4885\n",
      "Epoch 9/100\n",
      "12/12 [==============================] - 0s 4ms/step - loss: 543.0543 - mae: 21.3789 - mse: 543.0543 - val_loss: 486.9563 - val_mae: 19.7415 - val_mse: 486.9563\n",
      "Epoch 10/100\n",
      "12/12 [==============================] - 0s 4ms/step - loss: 499.6779 - mae: 20.5378 - mse: 499.6779 - val_loss: 472.4223 - val_mae: 19.3559 - val_mse: 472.4223\n",
      "Epoch 11/100\n",
      "12/12 [==============================] - 0s 4ms/step - loss: 504.1867 - mae: 20.5679 - mse: 504.1867 - val_loss: 456.8280 - val_mae: 18.9327 - val_mse: 456.8280\n",
      "Epoch 12/100\n",
      "12/12 [==============================] - 0s 5ms/step - loss: 497.1268 - mae: 20.2907 - mse: 497.1268 - val_loss: 439.4180 - val_mae: 18.4472 - val_mse: 439.4180\n",
      "Epoch 13/100\n",
      "12/12 [==============================] - 0s 5ms/step - loss: 449.1906 - mae: 19.3509 - mse: 449.1906 - val_loss: 420.9464 - val_mae: 17.9166 - val_mse: 420.9464\n",
      "Epoch 14/100\n",
      "12/12 [==============================] - 0s 6ms/step - loss: 443.9856 - mae: 18.9352 - mse: 443.9856 - val_loss: 401.2898 - val_mae: 17.3315 - val_mse: 401.2898\n",
      "Epoch 15/100\n",
      "12/12 [==============================] - 0s 5ms/step - loss: 434.1464 - mae: 18.5496 - mse: 434.1464 - val_loss: 380.6510 - val_mae: 16.7053 - val_mse: 380.6510\n",
      "Epoch 16/100\n",
      "12/12 [==============================] - 0s 12ms/step - loss: 422.9881 - mae: 18.1923 - mse: 422.9881 - val_loss: 358.7653 - val_mae: 16.0238 - val_mse: 358.7653\n",
      "Epoch 17/100\n",
      "12/12 [==============================] - 0s 5ms/step - loss: 384.9938 - mae: 17.0736 - mse: 384.9938 - val_loss: 335.5399 - val_mae: 15.2895 - val_mse: 335.5399\n",
      "Epoch 18/100\n",
      "12/12 [==============================] - 0s 4ms/step - loss: 381.4497 - mae: 16.7369 - mse: 381.4497 - val_loss: 312.1407 - val_mae: 14.5731 - val_mse: 312.1407\n",
      "Epoch 19/100\n",
      "12/12 [==============================] - 0s 4ms/step - loss: 357.8645 - mae: 16.1637 - mse: 357.8645 - val_loss: 289.1162 - val_mae: 13.8601 - val_mse: 289.1162\n",
      "Epoch 20/100\n",
      "12/12 [==============================] - 0s 5ms/step - loss: 327.5738 - mae: 15.2488 - mse: 327.5738 - val_loss: 265.5366 - val_mae: 13.1000 - val_mse: 265.5366\n",
      "Epoch 21/100\n",
      "12/12 [==============================] - 0s 4ms/step - loss: 302.6879 - mae: 14.4528 - mse: 302.6879 - val_loss: 244.8397 - val_mae: 12.4128 - val_mse: 244.8397\n",
      "Epoch 22/100\n",
      "12/12 [==============================] - 0s 4ms/step - loss: 265.8373 - mae: 13.3299 - mse: 265.8373 - val_loss: 223.8778 - val_mae: 11.7613 - val_mse: 223.8778\n",
      "Epoch 23/100\n",
      "12/12 [==============================] - 0s 4ms/step - loss: 251.1558 - mae: 12.6099 - mse: 251.1558 - val_loss: 203.7656 - val_mae: 11.1760 - val_mse: 203.7656\n",
      "Epoch 24/100\n",
      "12/12 [==============================] - 0s 4ms/step - loss: 235.2042 - mae: 12.1175 - mse: 235.2042 - val_loss: 186.4799 - val_mae: 10.7062 - val_mse: 186.4799\n",
      "Epoch 25/100\n",
      "12/12 [==============================] - 0s 4ms/step - loss: 210.2241 - mae: 11.2991 - mse: 210.2241 - val_loss: 170.9774 - val_mae: 10.3009 - val_mse: 170.9774\n",
      "Epoch 26/100\n",
      "12/12 [==============================] - 0s 4ms/step - loss: 190.1008 - mae: 10.6778 - mse: 190.1008 - val_loss: 155.8371 - val_mae: 9.8620 - val_mse: 155.8371\n",
      "Epoch 27/100\n",
      "12/12 [==============================] - 0s 4ms/step - loss: 171.5834 - mae: 10.1241 - mse: 171.5834 - val_loss: 146.9661 - val_mae: 9.6010 - val_mse: 146.9661\n",
      "Epoch 28/100\n",
      "12/12 [==============================] - 0s 4ms/step - loss: 165.2343 - mae: 9.8065 - mse: 165.2343 - val_loss: 140.2756 - val_mae: 9.4039 - val_mse: 140.2756\n",
      "Epoch 29/100\n",
      "12/12 [==============================] - 0s 4ms/step - loss: 149.1956 - mae: 9.4805 - mse: 149.1956 - val_loss: 133.8046 - val_mae: 9.1695 - val_mse: 133.8046\n",
      "Epoch 30/100\n",
      "12/12 [==============================] - 0s 4ms/step - loss: 150.0269 - mae: 9.4054 - mse: 150.0269 - val_loss: 129.5645 - val_mae: 8.9594 - val_mse: 129.5645\n",
      "Epoch 31/100\n",
      "12/12 [==============================] - 0s 5ms/step - loss: 128.9902 - mae: 8.6122 - mse: 128.9902 - val_loss: 126.1871 - val_mae: 8.8090 - val_mse: 126.1871\n",
      "Epoch 32/100\n",
      "12/12 [==============================] - 0s 4ms/step - loss: 117.6586 - mae: 8.3152 - mse: 117.6586 - val_loss: 124.2180 - val_mae: 8.6967 - val_mse: 124.2180\n",
      "Epoch 33/100\n",
      "12/12 [==============================] - 0s 4ms/step - loss: 119.4232 - mae: 8.5519 - mse: 119.4232 - val_loss: 122.1957 - val_mae: 8.6113 - val_mse: 122.1957\n",
      "Epoch 34/100\n",
      "12/12 [==============================] - 0s 4ms/step - loss: 125.2109 - mae: 8.7372 - mse: 125.2109 - val_loss: 120.4786 - val_mae: 8.5324 - val_mse: 120.4786\n",
      "Epoch 35/100\n",
      "12/12 [==============================] - 0s 4ms/step - loss: 120.1212 - mae: 8.4731 - mse: 120.1212 - val_loss: 117.9076 - val_mae: 8.4352 - val_mse: 117.9076\n",
      "Epoch 36/100\n",
      "12/12 [==============================] - 0s 3ms/step - loss: 120.9846 - mae: 8.4912 - mse: 120.9846 - val_loss: 116.2926 - val_mae: 8.3875 - val_mse: 116.2926\n",
      "Epoch 37/100\n",
      "12/12 [==============================] - 0s 5ms/step - loss: 110.4505 - mae: 8.0892 - mse: 110.4505 - val_loss: 113.8403 - val_mae: 8.2843 - val_mse: 113.8403\n",
      "Epoch 38/100\n",
      "12/12 [==============================] - 0s 4ms/step - loss: 111.9996 - mae: 8.0886 - mse: 111.9996 - val_loss: 111.4573 - val_mae: 8.1897 - val_mse: 111.4573\n",
      "Epoch 39/100\n",
      "12/12 [==============================] - 0s 5ms/step - loss: 106.7427 - mae: 7.8059 - mse: 106.7427 - val_loss: 108.9789 - val_mae: 8.0875 - val_mse: 108.9789\n",
      "Epoch 40/100\n",
      "12/12 [==============================] - 0s 5ms/step - loss: 102.1164 - mae: 7.6588 - mse: 102.1164 - val_loss: 106.1306 - val_mae: 7.9631 - val_mse: 106.1306\n",
      "Epoch 41/100\n",
      "12/12 [==============================] - 0s 4ms/step - loss: 106.6376 - mae: 7.8186 - mse: 106.6376 - val_loss: 103.0043 - val_mae: 7.8180 - val_mse: 103.0043\n",
      "Epoch 42/100\n",
      "12/12 [==============================] - 0s 4ms/step - loss: 93.5354 - mae: 7.3736 - mse: 93.5354 - val_loss: 100.7892 - val_mae: 7.7207 - val_mse: 100.7892\n",
      "Epoch 43/100\n",
      "12/12 [==============================] - 0s 5ms/step - loss: 87.8622 - mae: 7.0663 - mse: 87.8622 - val_loss: 99.1456 - val_mae: 7.6566 - val_mse: 99.1456\n",
      "Epoch 44/100\n",
      "12/12 [==============================] - 0s 5ms/step - loss: 89.8985 - mae: 7.3139 - mse: 89.8985 - val_loss: 95.6864 - val_mae: 7.4779 - val_mse: 95.6864\n",
      "Epoch 45/100\n",
      "12/12 [==============================] - 0s 4ms/step - loss: 96.9176 - mae: 7.3852 - mse: 96.9176 - val_loss: 93.3946 - val_mae: 7.3592 - val_mse: 93.3946\n",
      "Epoch 46/100\n",
      "12/12 [==============================] - 0s 5ms/step - loss: 79.0145 - mae: 6.6152 - mse: 79.0145 - val_loss: 91.6728 - val_mae: 7.2816 - val_mse: 91.6728\n",
      "Epoch 47/100\n",
      "12/12 [==============================] - 0s 5ms/step - loss: 91.3324 - mae: 7.1201 - mse: 91.3324 - val_loss: 89.8287 - val_mae: 7.2099 - val_mse: 89.8287\n",
      "Epoch 48/100\n"
     ]
    },
    {
     "name": "stdout",
     "output_type": "stream",
     "text": [
      "12/12 [==============================] - 0s 4ms/step - loss: 91.2963 - mae: 7.2234 - mse: 91.2963 - val_loss: 88.3220 - val_mae: 7.1736 - val_mse: 88.3220\n",
      "Epoch 49/100\n",
      "12/12 [==============================] - 0s 4ms/step - loss: 78.6859 - mae: 6.6191 - mse: 78.6859 - val_loss: 86.2351 - val_mae: 7.0903 - val_mse: 86.2351\n",
      "Epoch 50/100\n",
      "12/12 [==============================] - 0s 4ms/step - loss: 77.2667 - mae: 6.6682 - mse: 77.2667 - val_loss: 83.8993 - val_mae: 6.9538 - val_mse: 83.8993\n",
      "Epoch 51/100\n",
      "12/12 [==============================] - 0s 11ms/step - loss: 70.7449 - mae: 6.3089 - mse: 70.7449 - val_loss: 81.5896 - val_mae: 6.8133 - val_mse: 81.5896\n",
      "Epoch 52/100\n",
      "12/12 [==============================] - 0s 4ms/step - loss: 69.3236 - mae: 6.3711 - mse: 69.3236 - val_loss: 79.5919 - val_mae: 6.6905 - val_mse: 79.5919\n",
      "Epoch 53/100\n",
      "12/12 [==============================] - 0s 4ms/step - loss: 80.5095 - mae: 6.5038 - mse: 80.5095 - val_loss: 77.5399 - val_mae: 6.5795 - val_mse: 77.5399\n",
      "Epoch 54/100\n",
      "12/12 [==============================] - 0s 4ms/step - loss: 67.4164 - mae: 6.1430 - mse: 67.4164 - val_loss: 76.1659 - val_mae: 6.5480 - val_mse: 76.1659\n",
      "Epoch 55/100\n",
      "12/12 [==============================] - 0s 4ms/step - loss: 69.9711 - mae: 6.3277 - mse: 69.9711 - val_loss: 73.9078 - val_mae: 6.3910 - val_mse: 73.9078\n",
      "Epoch 56/100\n",
      "12/12 [==============================] - 0s 4ms/step - loss: 65.3746 - mae: 6.0326 - mse: 65.3746 - val_loss: 72.3625 - val_mae: 6.2903 - val_mse: 72.3625\n",
      "Epoch 57/100\n",
      "12/12 [==============================] - 0s 5ms/step - loss: 67.0735 - mae: 5.9603 - mse: 67.0735 - val_loss: 71.1267 - val_mae: 6.2459 - val_mse: 71.1267\n",
      "Epoch 58/100\n",
      "12/12 [==============================] - 0s 4ms/step - loss: 66.8436 - mae: 6.0448 - mse: 66.8436 - val_loss: 69.5188 - val_mae: 6.1416 - val_mse: 69.5188\n",
      "Epoch 59/100\n",
      "12/12 [==============================] - 0s 4ms/step - loss: 58.9054 - mae: 5.5897 - mse: 58.9054 - val_loss: 68.0860 - val_mae: 6.0874 - val_mse: 68.0860\n",
      "Epoch 60/100\n",
      "12/12 [==============================] - 0s 4ms/step - loss: 65.2332 - mae: 5.9179 - mse: 65.2332 - val_loss: 66.9752 - val_mae: 6.0613 - val_mse: 66.9752\n",
      "Epoch 61/100\n",
      "12/12 [==============================] - 0s 4ms/step - loss: 76.2806 - mae: 6.1546 - mse: 76.2806 - val_loss: 65.7542 - val_mae: 5.9707 - val_mse: 65.7542\n",
      "Epoch 62/100\n",
      "12/12 [==============================] - 0s 4ms/step - loss: 66.0929 - mae: 5.8139 - mse: 66.0929 - val_loss: 64.5223 - val_mae: 5.8833 - val_mse: 64.5223\n",
      "Epoch 63/100\n",
      "12/12 [==============================] - 0s 5ms/step - loss: 58.7793 - mae: 5.4257 - mse: 58.7793 - val_loss: 63.6726 - val_mae: 5.8760 - val_mse: 63.6726\n",
      "Epoch 64/100\n",
      "12/12 [==============================] - 0s 4ms/step - loss: 62.7198 - mae: 5.7982 - mse: 62.7198 - val_loss: 62.7797 - val_mae: 5.8391 - val_mse: 62.7797\n",
      "Epoch 65/100\n",
      "12/12 [==============================] - 0s 3ms/step - loss: 56.0862 - mae: 5.5065 - mse: 56.0862 - val_loss: 61.7701 - val_mae: 5.7159 - val_mse: 61.7701\n",
      "Epoch 66/100\n",
      "12/12 [==============================] - 0s 4ms/step - loss: 61.8843 - mae: 5.5668 - mse: 61.8843 - val_loss: 61.1659 - val_mae: 5.7027 - val_mse: 61.1659\n",
      "Epoch 67/100\n",
      "12/12 [==============================] - 0s 4ms/step - loss: 51.8846 - mae: 5.2328 - mse: 51.8846 - val_loss: 60.7768 - val_mae: 5.7404 - val_mse: 60.7768\n",
      "Epoch 68/100\n",
      "12/12 [==============================] - 0s 4ms/step - loss: 48.6397 - mae: 5.1278 - mse: 48.6397 - val_loss: 59.9808 - val_mae: 5.6581 - val_mse: 59.9808\n",
      "Epoch 69/100\n",
      "12/12 [==============================] - 0s 5ms/step - loss: 53.3836 - mae: 5.1025 - mse: 53.3836 - val_loss: 59.3212 - val_mae: 5.5532 - val_mse: 59.3212\n",
      "Epoch 70/100\n",
      "12/12 [==============================] - 0s 4ms/step - loss: 48.0135 - mae: 4.8477 - mse: 48.0135 - val_loss: 58.8610 - val_mae: 5.5049 - val_mse: 58.8610\n",
      "Epoch 71/100\n",
      "12/12 [==============================] - 0s 5ms/step - loss: 49.8028 - mae: 5.0394 - mse: 49.8028 - val_loss: 58.3964 - val_mae: 5.4789 - val_mse: 58.3964\n",
      "Epoch 72/100\n",
      "12/12 [==============================] - 0s 4ms/step - loss: 46.7862 - mae: 4.9213 - mse: 46.7862 - val_loss: 57.9738 - val_mae: 5.5318 - val_mse: 57.9738\n",
      "Epoch 73/100\n",
      "12/12 [==============================] - 0s 4ms/step - loss: 39.9747 - mae: 4.7585 - mse: 39.9747 - val_loss: 57.4891 - val_mae: 5.4021 - val_mse: 57.4891\n",
      "Epoch 74/100\n",
      "12/12 [==============================] - 0s 4ms/step - loss: 48.0518 - mae: 4.9550 - mse: 48.0518 - val_loss: 57.2300 - val_mae: 5.4814 - val_mse: 57.2300\n",
      "Epoch 75/100\n",
      "12/12 [==============================] - 0s 4ms/step - loss: 50.1877 - mae: 5.0002 - mse: 50.1877 - val_loss: 56.9525 - val_mae: 5.4650 - val_mse: 56.9525\n",
      "Epoch 76/100\n",
      "12/12 [==============================] - 0s 4ms/step - loss: 47.6433 - mae: 4.8388 - mse: 47.6433 - val_loss: 56.6136 - val_mae: 5.3674 - val_mse: 56.6136\n",
      "Epoch 77/100\n",
      "12/12 [==============================] - 0s 4ms/step - loss: 56.4822 - mae: 5.2849 - mse: 56.4822 - val_loss: 56.3872 - val_mae: 5.3225 - val_mse: 56.3872\n",
      "Epoch 78/100\n",
      "12/12 [==============================] - 0s 4ms/step - loss: 43.0853 - mae: 4.7038 - mse: 43.0853 - val_loss: 56.2116 - val_mae: 5.2843 - val_mse: 56.2116\n",
      "Epoch 79/100\n",
      "12/12 [==============================] - 0s 3ms/step - loss: 46.9202 - mae: 4.7557 - mse: 46.9202 - val_loss: 56.0916 - val_mae: 5.2396 - val_mse: 56.0916\n",
      "Epoch 80/100\n",
      "12/12 [==============================] - 0s 5ms/step - loss: 49.5744 - mae: 4.8386 - mse: 49.5744 - val_loss: 55.9950 - val_mae: 5.2156 - val_mse: 55.9950\n",
      "Epoch 81/100\n",
      "12/12 [==============================] - 0s 4ms/step - loss: 46.7269 - mae: 4.7815 - mse: 46.7269 - val_loss: 55.6416 - val_mae: 5.2204 - val_mse: 55.6416\n",
      "Epoch 82/100\n",
      "12/12 [==============================] - 0s 4ms/step - loss: 45.6810 - mae: 4.8606 - mse: 45.6810 - val_loss: 55.2407 - val_mae: 5.2421 - val_mse: 55.2407\n",
      "Epoch 83/100\n",
      "12/12 [==============================] - 0s 11ms/step - loss: 52.7496 - mae: 4.9896 - mse: 52.7496 - val_loss: 54.8808 - val_mae: 5.2688 - val_mse: 54.8808\n",
      "Epoch 84/100\n",
      "12/12 [==============================] - 0s 5ms/step - loss: 44.7545 - mae: 4.8215 - mse: 44.7545 - val_loss: 54.7487 - val_mae: 5.1951 - val_mse: 54.7487\n",
      "Epoch 85/100\n",
      "12/12 [==============================] - 0s 5ms/step - loss: 48.3296 - mae: 4.9487 - mse: 48.3296 - val_loss: 54.3951 - val_mae: 5.2041 - val_mse: 54.3951\n",
      "Epoch 86/100\n",
      "12/12 [==============================] - 0s 4ms/step - loss: 39.0007 - mae: 4.5118 - mse: 39.0007 - val_loss: 54.0320 - val_mae: 5.2696 - val_mse: 54.0320\n",
      "Epoch 87/100\n",
      "12/12 [==============================] - 0s 4ms/step - loss: 40.5742 - mae: 4.5746 - mse: 40.5742 - val_loss: 53.9785 - val_mae: 5.3132 - val_mse: 53.9785\n",
      "Epoch 88/100\n",
      "12/12 [==============================] - 0s 5ms/step - loss: 42.0176 - mae: 4.7346 - mse: 42.0176 - val_loss: 53.5884 - val_mae: 5.2310 - val_mse: 53.5884\n",
      "Epoch 89/100\n",
      "12/12 [==============================] - 0s 5ms/step - loss: 47.6755 - mae: 4.9182 - mse: 47.6755 - val_loss: 53.3207 - val_mae: 5.1883 - val_mse: 53.3207\n",
      "Epoch 90/100\n",
      "12/12 [==============================] - 0s 4ms/step - loss: 35.6796 - mae: 4.3408 - mse: 35.6796 - val_loss: 53.1583 - val_mae: 5.2556 - val_mse: 53.1583\n",
      "Epoch 91/100\n",
      "12/12 [==============================] - 0s 4ms/step - loss: 45.2655 - mae: 4.7154 - mse: 45.2655 - val_loss: 52.7809 - val_mae: 5.2042 - val_mse: 52.7809\n",
      "Epoch 92/100\n",
      "12/12 [==============================] - 0s 4ms/step - loss: 36.9541 - mae: 4.3874 - mse: 36.9541 - val_loss: 52.4655 - val_mae: 5.1655 - val_mse: 52.4655\n",
      "Epoch 93/100\n",
      "12/12 [==============================] - 0s 4ms/step - loss: 36.2731 - mae: 4.4341 - mse: 36.2731 - val_loss: 52.2280 - val_mae: 5.1460 - val_mse: 52.2280\n",
      "Epoch 94/100\n",
      "12/12 [==============================] - 0s 4ms/step - loss: 47.5855 - mae: 4.8976 - mse: 47.5855 - val_loss: 52.0584 - val_mae: 5.0664 - val_mse: 52.0584\n",
      "Epoch 95/100\n",
      "12/12 [==============================] - 0s 4ms/step - loss: 37.1437 - mae: 4.3860 - mse: 37.1437 - val_loss: 51.7726 - val_mae: 5.1583 - val_mse: 51.7726\n",
      "Epoch 96/100\n",
      "12/12 [==============================] - 0s 4ms/step - loss: 43.5973 - mae: 4.7449 - mse: 43.5973 - val_loss: 51.5256 - val_mae: 5.0741 - val_mse: 51.5256\n"
     ]
    },
    {
     "name": "stdout",
     "output_type": "stream",
     "text": [
      "Epoch 97/100\n",
      "12/12 [==============================] - 0s 4ms/step - loss: 38.9740 - mae: 4.4944 - mse: 38.9740 - val_loss: 51.4257 - val_mae: 5.0082 - val_mse: 51.4257\n",
      "Epoch 98/100\n",
      "12/12 [==============================] - 0s 4ms/step - loss: 38.5994 - mae: 4.4259 - mse: 38.5994 - val_loss: 50.9741 - val_mae: 5.0575 - val_mse: 50.9741\n",
      "Epoch 99/100\n",
      "12/12 [==============================] - 0s 3ms/step - loss: 37.4558 - mae: 4.3635 - mse: 37.4558 - val_loss: 50.7493 - val_mae: 5.0977 - val_mse: 50.7493\n",
      "Epoch 100/100\n",
      "12/12 [==============================] - 0s 5ms/step - loss: 37.5166 - mae: 4.5838 - mse: 37.5166 - val_loss: 50.4725 - val_mae: 5.0105 - val_mse: 50.4725\n",
      "3/3 [==============================] - 0s 905us/step - loss: 44.3194 - mae: 4.5421 - mse: 44.3194\n"
     ]
    },
    {
     "data": {
      "text/plain": [
       "[44.319358825683594, 4.542094707489014, 44.319358825683594]"
      ]
     },
     "execution_count": 44,
     "metadata": {},
     "output_type": "execute_result"
    }
   ],
   "source": [
    "# step-1: Build the second model with different settings\n",
    "model_2 = Sequential([\n",
    "    Dense(8, activation='relu', input_shape=[X_train.shape[1]]),\n",
    "    Dense(16, activation='relu'),\n",
    "    Dense(1)\n",
    "])\n",
    "\n",
    "# step-2: Compile model\n",
    "model_2.compile(optimizer='rmsprop', loss='mse', metrics=['mae', 'mse'])\n",
    "\n",
    "# step-3: Train/Fit the model\n",
    "hist_2 = model_2.fit(X_train, Y_train, epochs=100, validation_data=(X_val, Y_val))\n",
    "\n",
    "# step-4: Evaluation\n",
    "model_2.evaluate(X_test, Y_test)"
   ]
  },
  {
   "cell_type": "code",
   "execution_count": 45,
   "metadata": {},
   "outputs": [
    {
     "data": {
      "image/png": "[encoded data removed]",
      "text/plain": [
       "<Figure size 432x288 with 1 Axes>"
      ]
     },
     "metadata": {
      "needs_background": "light"
     },
     "output_type": "display_data"
    }
   ],
   "source": [
    "plt.plot(hist_2.history['mse'])\n",
    "plt.plot(hist_2.history['val_mse'])\n",
    "plt.title('Model Performance')\n",
    "plt.ylabel('MSE')\n",
    "plt.xlabel('Epoch')\n",
    "plt.legend(['Train', 'Val'], loc='upper right')\n",
    "plt.show()"
   ]
  },
  {
   "cell_type": "code",
   "execution_count": 46,
   "metadata": {},
   "outputs": [],
   "source": [
    "from tensorflow.keras import regularizers\n",
    "from tensorflow.keras.layers import Dropout"
   ]
  },
  {
   "cell_type": "markdown",
   "metadata": {},
   "source": [
    "#### Task-16:  complete the following codes (steps1 - step4) to build the third neural network with different settings (try regularizer parameter and dropout), compile, train, evaluate, and predict as above.  (20 points)"
   ]
  },
  {
   "cell_type": "code",
   "execution_count": 47,
   "metadata": {},
   "outputs": [
    {
     "name": "stdout",
     "output_type": "stream",
     "text": [
      "Epoch 1/100\n",
      "12/12 [==============================] - 1s 15ms/step - loss: 586.3660 - mse: 586.3623 - mae: 22.4473 - mape: 100.0179 - val_loss: 537.9927 - val_mse: 537.9890 - val_mae: 20.9898 - val_mape: 96.4905\n",
      "Epoch 2/100\n",
      "12/12 [==============================] - 0s 5ms/step - loss: 584.7707 - mse: 584.7669 - mae: 22.2968 - mape: 97.1373 - val_loss: 518.2609 - val_mse: 518.2570 - val_mae: 20.4974 - val_mape: 93.5211\n",
      "Epoch 3/100\n",
      "12/12 [==============================] - 0s 4ms/step - loss: 523.4069 - mse: 523.4031 - mae: 20.9640 - mape: 93.6990 - val_loss: 494.1676 - val_mse: 494.1638 - val_mae: 19.8896 - val_mape: 89.9207\n",
      "Epoch 4/100\n",
      "12/12 [==============================] - 0s 4ms/step - loss: 575.2054 - mse: 575.2016 - mae: 21.9148 - mape: 90.9105 - val_loss: 467.2679 - val_mse: 467.2640 - val_mae: 19.1670 - val_mape: 85.5329\n",
      "Epoch 5/100\n",
      "12/12 [==============================] - 0s 4ms/step - loss: 481.9267 - mse: 481.9229 - mae: 20.1313 - mape: 87.3627 - val_loss: 431.5055 - val_mse: 431.5016 - val_mae: 18.1520 - val_mape: 79.3258\n",
      "Epoch 6/100\n",
      "12/12 [==============================] - 0s 4ms/step - loss: 459.7445 - mse: 459.7406 - mae: 19.2648 - mape: 81.2472 - val_loss: 392.3431 - val_mse: 392.3392 - val_mae: 16.9700 - val_mape: 72.2966\n",
      "Epoch 7/100\n",
      "12/12 [==============================] - 0s 5ms/step - loss: 433.3337 - mse: 433.3298 - mae: 18.1402 - mape: 73.9019 - val_loss: 348.8433 - val_mse: 348.8393 - val_mae: 15.5859 - val_mape: 64.6182\n",
      "Epoch 8/100\n",
      "12/12 [==============================] - 0s 4ms/step - loss: 389.3592 - mse: 389.3552 - mae: 17.0883 - mape: 69.9216 - val_loss: 305.6981 - val_mse: 305.6940 - val_mae: 14.2844 - val_mape: 59.1100\n",
      "Epoch 9/100\n",
      "12/12 [==============================] - 0s 13ms/step - loss: 324.0704 - mse: 324.0663 - mae: 15.2220 - mape: 62.0049 - val_loss: 260.2952 - val_mse: 260.2910 - val_mae: 12.8653 - val_mape: 54.1195\n",
      "Epoch 10/100\n",
      "12/12 [==============================] - 0s 5ms/step - loss: 293.8798 - mse: 293.8756 - mae: 14.1984 - mape: 58.5422 - val_loss: 219.5053 - val_mse: 219.5011 - val_mae: 11.7061 - val_mape: 51.9734\n",
      "Epoch 11/100\n",
      "12/12 [==============================] - 0s 4ms/step - loss: 268.2736 - mse: 268.2693 - mae: 13.2857 - mape: 54.9130 - val_loss: 188.3242 - val_mse: 188.3199 - val_mae: 10.8808 - val_mape: 52.1537\n",
      "Epoch 12/100\n",
      "12/12 [==============================] - 0s 4ms/step - loss: 216.2984 - mse: 216.2941 - mae: 11.7499 - mape: 51.9731 - val_loss: 168.3443 - val_mse: 168.3399 - val_mae: 10.3270 - val_mape: 52.9767\n",
      "Epoch 13/100\n",
      "12/12 [==============================] - 0s 5ms/step - loss: 178.7249 - mse: 178.7205 - mae: 10.7832 - mape: 50.8956 - val_loss: 152.6512 - val_mse: 152.6467 - val_mae: 9.8199 - val_mape: 54.6258\n",
      "Epoch 14/100\n",
      "12/12 [==============================] - 0s 5ms/step - loss: 202.2602 - mse: 202.2557 - mae: 11.2443 - mape: 53.1406 - val_loss: 147.4749 - val_mse: 147.4704 - val_mae: 9.6310 - val_mape: 54.2853\n",
      "Epoch 15/100\n",
      "12/12 [==============================] - 0s 4ms/step - loss: 176.7043 - mse: 176.6998 - mae: 10.5506 - mape: 52.1135 - val_loss: 141.0803 - val_mse: 141.0758 - val_mae: 9.3832 - val_mape: 54.0233\n",
      "Epoch 16/100\n",
      "12/12 [==============================] - 0s 5ms/step - loss: 182.1878 - mse: 182.1833 - mae: 10.5690 - mape: 53.0982 - val_loss: 134.7715 - val_mse: 134.7671 - val_mae: 9.1353 - val_mape: 52.3623\n",
      "Epoch 17/100\n",
      "12/12 [==============================] - 0s 5ms/step - loss: 168.7056 - mse: 168.7011 - mae: 10.1111 - mape: 51.8606 - val_loss: 130.2065 - val_mse: 130.2021 - val_mae: 8.9491 - val_mape: 50.0462\n",
      "Epoch 18/100\n",
      "12/12 [==============================] - 0s 4ms/step - loss: 192.3953 - mse: 192.3908 - mae: 10.7290 - mape: 51.1080 - val_loss: 122.9404 - val_mse: 122.9359 - val_mae: 8.6547 - val_mape: 50.0041\n",
      "Epoch 19/100\n",
      "12/12 [==============================] - 0s 5ms/step - loss: 168.4704 - mse: 168.4659 - mae: 10.2204 - mape: 51.1949 - val_loss: 118.6985 - val_mse: 118.6941 - val_mae: 8.4619 - val_mape: 47.9262\n",
      "Epoch 20/100\n",
      "12/12 [==============================] - 0s 5ms/step - loss: 164.8858 - mse: 164.8814 - mae: 10.0563 - mape: 47.1386 - val_loss: 114.5757 - val_mse: 114.5712 - val_mae: 8.2809 - val_mape: 46.9790\n",
      "Epoch 21/100\n",
      "12/12 [==============================] - 0s 6ms/step - loss: 143.3026 - mse: 143.2981 - mae: 9.0902 - mape: 44.2170 - val_loss: 108.1773 - val_mse: 108.1728 - val_mae: 7.9918 - val_mape: 47.5954\n",
      "Epoch 22/100\n",
      "12/12 [==============================] - 0s 5ms/step - loss: 113.0320 - mse: 113.0275 - mae: 8.1351 - mape: 40.9123 - val_loss: 103.5527 - val_mse: 103.5481 - val_mae: 7.7863 - val_mape: 46.7521\n",
      "Epoch 23/100\n",
      "12/12 [==============================] - 0s 5ms/step - loss: 137.8273 - mse: 137.8228 - mae: 9.0653 - mape: 46.0610 - val_loss: 99.3114 - val_mse: 99.3069 - val_mae: 7.5872 - val_mape: 44.9472\n",
      "Epoch 24/100\n",
      "12/12 [==============================] - 0s 5ms/step - loss: 123.1335 - mse: 123.1290 - mae: 8.7322 - mape: 43.7552 - val_loss: 97.8364 - val_mse: 97.8319 - val_mae: 7.4780 - val_mape: 41.9798\n",
      "Epoch 25/100\n",
      "12/12 [==============================] - 0s 4ms/step - loss: 150.9239 - mse: 150.9194 - mae: 9.5283 - mape: 46.9896 - val_loss: 92.1489 - val_mse: 92.1444 - val_mae: 7.2067 - val_mape: 41.4021\n",
      "Epoch 26/100\n",
      "12/12 [==============================] - 0s 4ms/step - loss: 122.5670 - mse: 122.5625 - mae: 8.5133 - mape: 41.7719 - val_loss: 87.5791 - val_mse: 87.5745 - val_mae: 6.9762 - val_mape: 41.0688\n",
      "Epoch 27/100\n",
      "12/12 [==============================] - 0s 5ms/step - loss: 104.5705 - mse: 104.5659 - mae: 7.7921 - mape: 41.8286 - val_loss: 85.3863 - val_mse: 85.3817 - val_mae: 6.8320 - val_mape: 38.7118\n",
      "Epoch 28/100\n",
      "12/12 [==============================] - 0s 5ms/step - loss: 126.4218 - mse: 126.4172 - mae: 8.1534 - mape: 39.1058 - val_loss: 84.7510 - val_mse: 84.7465 - val_mae: 6.7653 - val_mape: 36.4586\n",
      "Epoch 29/100\n",
      "12/12 [==============================] - 0s 5ms/step - loss: 108.4089 - mse: 108.4043 - mae: 7.8662 - mape: 38.4697 - val_loss: 78.3106 - val_mse: 78.3060 - val_mae: 6.4462 - val_mape: 36.4077\n",
      "Epoch 30/100\n",
      "12/12 [==============================] - 0s 5ms/step - loss: 124.4146 - mse: 124.4100 - mae: 8.2816 - mape: 37.0749 - val_loss: 77.8830 - val_mse: 77.8784 - val_mae: 6.4018 - val_mape: 34.8921\n",
      "Epoch 31/100\n",
      "12/12 [==============================] - 0s 6ms/step - loss: 103.0938 - mse: 103.0892 - mae: 7.9038 - mape: 39.3998 - val_loss: 72.9439 - val_mse: 72.9393 - val_mae: 6.1321 - val_mape: 34.7825\n",
      "Epoch 32/100\n",
      "12/12 [==============================] - 0s 4ms/step - loss: 104.1998 - mse: 104.1952 - mae: 7.7106 - mape: 35.9140 - val_loss: 69.6680 - val_mse: 69.6634 - val_mae: 5.9300 - val_mape: 33.5643\n",
      "Epoch 33/100\n",
      "12/12 [==============================] - 0s 5ms/step - loss: 120.0295 - mse: 120.0249 - mae: 8.6222 - mape: 43.8591 - val_loss: 69.6396 - val_mse: 69.6349 - val_mae: 5.8766 - val_mape: 31.5701\n",
      "Epoch 34/100\n",
      "12/12 [==============================] - 0s 5ms/step - loss: 82.7121 - mse: 82.7075 - mae: 6.6925 - mape: 32.6608 - val_loss: 66.6597 - val_mse: 66.6550 - val_mae: 5.7130 - val_mape: 31.0636\n",
      "Epoch 35/100\n",
      "12/12 [==============================] - 0s 4ms/step - loss: 117.1342 - mse: 117.1295 - mae: 8.0084 - mape: 35.8149 - val_loss: 63.5558 - val_mse: 63.5511 - val_mae: 5.5444 - val_mape: 30.5440\n",
      "Epoch 36/100\n",
      "12/12 [==============================] - 0s 5ms/step - loss: 105.1069 - mse: 105.1022 - mae: 7.8738 - mape: 37.0373 - val_loss: 66.6404 - val_mse: 66.6358 - val_mae: 5.6469 - val_mape: 28.4480\n",
      "Epoch 37/100\n",
      "12/12 [==============================] - 0s 4ms/step - loss: 111.5131 - mse: 111.5084 - mae: 7.9036 - mape: 35.0595 - val_loss: 61.1976 - val_mse: 61.1929 - val_mae: 5.3734 - val_mape: 28.2620\n",
      "Epoch 38/100\n",
      "12/12 [==============================] - 0s 4ms/step - loss: 77.5524 - mse: 77.5477 - mae: 6.6340 - mape: 32.3583 - val_loss: 60.7403 - val_mse: 60.7356 - val_mae: 5.3272 - val_mape: 27.6218\n",
      "Epoch 39/100\n",
      "12/12 [==============================] - 0s 5ms/step - loss: 83.9883 - mse: 83.9836 - mae: 6.9025 - mape: 32.8773 - val_loss: 57.8359 - val_mse: 57.8312 - val_mae: 5.1951 - val_mape: 27.4612\n",
      "Epoch 40/100\n"
     ]
    },
    {
     "name": "stdout",
     "output_type": "stream",
     "text": [
      "12/12 [==============================] - 0s 4ms/step - loss: 107.8855 - mse: 107.8808 - mae: 7.7978 - mape: 36.2779 - val_loss: 58.6227 - val_mse: 58.6179 - val_mae: 5.1502 - val_mape: 26.0640\n",
      "Epoch 41/100\n",
      "12/12 [==============================] - 0s 5ms/step - loss: 83.0509 - mse: 83.0461 - mae: 6.9573 - mape: 33.3657 - val_loss: 56.9190 - val_mse: 56.9143 - val_mae: 5.0746 - val_mape: 25.9718\n",
      "Epoch 42/100\n",
      "12/12 [==============================] - 0s 4ms/step - loss: 103.5919 - mse: 103.5871 - mae: 7.8012 - mape: 37.1548 - val_loss: 56.0180 - val_mse: 56.0132 - val_mae: 5.0123 - val_mape: 25.4739\n",
      "Epoch 43/100\n",
      "12/12 [==============================] - 0s 5ms/step - loss: 101.4902 - mse: 101.4854 - mae: 7.4233 - mape: 35.1356 - val_loss: 56.5792 - val_mse: 56.5744 - val_mae: 4.9890 - val_mape: 24.7382\n",
      "Epoch 44/100\n",
      "12/12 [==============================] - 0s 5ms/step - loss: 87.4159 - mse: 87.4111 - mae: 7.2484 - mape: 33.3176 - val_loss: 64.5411 - val_mse: 64.5364 - val_mae: 5.2876 - val_mape: 23.9872\n",
      "Epoch 45/100\n",
      "12/12 [==============================] - 0s 5ms/step - loss: 92.0805 - mse: 92.0758 - mae: 7.0706 - mape: 30.7241 - val_loss: 62.4664 - val_mse: 62.4616 - val_mae: 5.1845 - val_mape: 23.8277\n",
      "Epoch 46/100\n",
      "12/12 [==============================] - 0s 4ms/step - loss: 83.2160 - mse: 83.2112 - mae: 6.9113 - mape: 30.8178 - val_loss: 53.4895 - val_mse: 53.4847 - val_mae: 4.8974 - val_mape: 25.0486\n",
      "Epoch 47/100\n",
      "12/12 [==============================] - 0s 12ms/step - loss: 82.7593 - mse: 82.7545 - mae: 6.8334 - mape: 31.5736 - val_loss: 54.8252 - val_mse: 54.8204 - val_mae: 4.8749 - val_mape: 24.0712\n",
      "Epoch 48/100\n",
      "12/12 [==============================] - 0s 5ms/step - loss: 84.4410 - mse: 84.4362 - mae: 6.9989 - mape: 33.5169 - val_loss: 56.2612 - val_mse: 56.2564 - val_mae: 4.8721 - val_mape: 23.2612\n",
      "Epoch 49/100\n",
      "12/12 [==============================] - 0s 5ms/step - loss: 78.0443 - mse: 78.0396 - mae: 6.6489 - mape: 29.8202 - val_loss: 56.6407 - val_mse: 56.6359 - val_mae: 4.8632 - val_mape: 22.9641\n",
      "Epoch 50/100\n",
      "12/12 [==============================] - 0s 4ms/step - loss: 91.9248 - mse: 91.9200 - mae: 6.9746 - mape: 30.7994 - val_loss: 59.2164 - val_mse: 59.2117 - val_mae: 4.9530 - val_mape: 22.6822\n",
      "Epoch 51/100\n",
      "12/12 [==============================] - 0s 3ms/step - loss: 83.1893 - mse: 83.1845 - mae: 6.6143 - mape: 29.8860 - val_loss: 55.8575 - val_mse: 55.8526 - val_mae: 4.8093 - val_mape: 22.6938\n",
      "Epoch 52/100\n",
      "12/12 [==============================] - 0s 5ms/step - loss: 90.2147 - mse: 90.2099 - mae: 6.9175 - mape: 31.1704 - val_loss: 59.1076 - val_mse: 59.1028 - val_mae: 4.9439 - val_mape: 22.5265\n",
      "Epoch 53/100\n",
      "12/12 [==============================] - 0s 4ms/step - loss: 71.6358 - mse: 71.6311 - mae: 6.5255 - mape: 28.7042 - val_loss: 49.8126 - val_mse: 49.8078 - val_mae: 4.7348 - val_mape: 24.5167\n",
      "Epoch 54/100\n",
      "12/12 [==============================] - 0s 5ms/step - loss: 75.9014 - mse: 75.8965 - mae: 6.4764 - mape: 31.0909 - val_loss: 53.8896 - val_mse: 53.8848 - val_mae: 4.7161 - val_mape: 22.4367\n",
      "Epoch 55/100\n",
      "12/12 [==============================] - 0s 5ms/step - loss: 85.8877 - mse: 85.8829 - mae: 6.7869 - mape: 29.3302 - val_loss: 57.1053 - val_mse: 57.1005 - val_mae: 4.8184 - val_mape: 22.0414\n",
      "Epoch 56/100\n",
      "12/12 [==============================] - 0s 5ms/step - loss: 85.3913 - mse: 85.3865 - mae: 6.7642 - mape: 30.4772 - val_loss: 55.8502 - val_mse: 55.8454 - val_mae: 4.7522 - val_mape: 21.9191\n",
      "Epoch 57/100\n",
      "12/12 [==============================] - 0s 4ms/step - loss: 80.8934 - mse: 80.8886 - mae: 6.6085 - mape: 29.0179 - val_loss: 55.4686 - val_mse: 55.4638 - val_mae: 4.7314 - val_mape: 21.8427\n",
      "Epoch 58/100\n",
      "12/12 [==============================] - 0s 4ms/step - loss: 83.2475 - mse: 83.2426 - mae: 6.4897 - mape: 29.9569 - val_loss: 50.9158 - val_mse: 50.9110 - val_mae: 4.5686 - val_mape: 22.1273\n",
      "Epoch 59/100\n",
      "12/12 [==============================] - 0s 4ms/step - loss: 79.2385 - mse: 79.2336 - mae: 6.5922 - mape: 31.2412 - val_loss: 56.2502 - val_mse: 56.2454 - val_mae: 4.7461 - val_mape: 21.5823\n",
      "Epoch 60/100\n",
      "12/12 [==============================] - 0s 4ms/step - loss: 81.8077 - mse: 81.8029 - mae: 6.4977 - mape: 29.3446 - val_loss: 51.8394 - val_mse: 51.8346 - val_mae: 4.5494 - val_mape: 21.5213\n",
      "Epoch 61/100\n",
      "12/12 [==============================] - 0s 4ms/step - loss: 84.0125 - mse: 84.0076 - mae: 6.7208 - mape: 29.8634 - val_loss: 53.1155 - val_mse: 53.1107 - val_mae: 4.5705 - val_mape: 21.1728\n",
      "Epoch 62/100\n",
      "12/12 [==============================] - 0s 4ms/step - loss: 70.7829 - mse: 70.7781 - mae: 6.0462 - mape: 27.4352 - val_loss: 53.5639 - val_mse: 53.5591 - val_mae: 4.5925 - val_mape: 21.1259\n",
      "Epoch 63/100\n",
      "12/12 [==============================] - 0s 4ms/step - loss: 88.7186 - mse: 88.7138 - mae: 7.2461 - mape: 32.4902 - val_loss: 50.4619 - val_mse: 50.4570 - val_mae: 4.4707 - val_mape: 21.1718\n",
      "Epoch 64/100\n",
      "12/12 [==============================] - 0s 5ms/step - loss: 65.7608 - mse: 65.7560 - mae: 6.0223 - mape: 26.9595 - val_loss: 50.0262 - val_mse: 50.0213 - val_mae: 4.4560 - val_mape: 21.1714\n",
      "Epoch 65/100\n",
      "12/12 [==============================] - 0s 4ms/step - loss: 65.6935 - mse: 65.6887 - mae: 6.0870 - mape: 27.0340 - val_loss: 50.7417 - val_mse: 50.7369 - val_mae: 4.4727 - val_mape: 21.0104\n",
      "Epoch 66/100\n",
      "12/12 [==============================] - 0s 5ms/step - loss: 81.2644 - mse: 81.2595 - mae: 6.5537 - mape: 27.9264 - val_loss: 50.5700 - val_mse: 50.5652 - val_mae: 4.4537 - val_mape: 20.8581\n",
      "Epoch 67/100\n",
      "12/12 [==============================] - 0s 4ms/step - loss: 74.1967 - mse: 74.1919 - mae: 6.3136 - mape: 29.1380 - val_loss: 46.5731 - val_mse: 46.5682 - val_mae: 4.4003 - val_mape: 21.7489\n",
      "Epoch 68/100\n",
      "12/12 [==============================] - 0s 5ms/step - loss: 74.2424 - mse: 74.2375 - mae: 6.3084 - mape: 29.2080 - val_loss: 47.9834 - val_mse: 47.9785 - val_mae: 4.3638 - val_mape: 20.8923\n",
      "Epoch 69/100\n",
      "12/12 [==============================] - 0s 4ms/step - loss: 64.0143 - mse: 64.0094 - mae: 6.0418 - mape: 27.5495 - val_loss: 48.7579 - val_mse: 48.7531 - val_mae: 4.3587 - val_mape: 20.5484\n",
      "Epoch 70/100\n",
      "12/12 [==============================] - 0s 4ms/step - loss: 69.2629 - mse: 69.2580 - mae: 6.1238 - mape: 27.1803 - val_loss: 49.6382 - val_mse: 49.6334 - val_mae: 4.3732 - val_mape: 20.3299\n",
      "Epoch 71/100\n",
      "12/12 [==============================] - 0s 4ms/step - loss: 74.1691 - mse: 74.1643 - mae: 6.1919 - mape: 26.9383 - val_loss: 48.7003 - val_mse: 48.6954 - val_mae: 4.3236 - val_mape: 20.2154\n",
      "Epoch 72/100\n",
      "12/12 [==============================] - 0s 3ms/step - loss: 85.8299 - mse: 85.8250 - mae: 6.4249 - mape: 27.7931 - val_loss: 50.2685 - val_mse: 50.2637 - val_mae: 4.3767 - val_mape: 20.0824\n",
      "Epoch 73/100\n",
      "12/12 [==============================] - 0s 5ms/step - loss: 55.8313 - mse: 55.8265 - mae: 5.5958 - mape: 24.7424 - val_loss: 46.8007 - val_mse: 46.7959 - val_mae: 4.2672 - val_mape: 20.2786\n",
      "Epoch 74/100\n",
      "12/12 [==============================] - 0s 6ms/step - loss: 71.0519 - mse: 71.0470 - mae: 6.2068 - mape: 27.9021 - val_loss: 50.0692 - val_mse: 50.0644 - val_mae: 4.3548 - val_mape: 19.8682\n",
      "Epoch 75/100\n",
      "12/12 [==============================] - 0s 5ms/step - loss: 66.2479 - mse: 66.2430 - mae: 6.0423 - mape: 27.0146 - val_loss: 45.5531 - val_mse: 45.5482 - val_mae: 4.2295 - val_mape: 20.2725\n",
      "Epoch 76/100\n",
      "12/12 [==============================] - 0s 4ms/step - loss: 63.1273 - mse: 63.1224 - mae: 5.9074 - mape: 26.9480 - val_loss: 49.9483 - val_mse: 49.9434 - val_mae: 4.3363 - val_mape: 19.6545\n",
      "Epoch 77/100\n",
      "12/12 [==============================] - 0s 4ms/step - loss: 66.9864 - mse: 66.9816 - mae: 6.0522 - mape: 27.9460 - val_loss: 48.9215 - val_mse: 48.9167 - val_mae: 4.2684 - val_mape: 19.4571\n",
      "Epoch 78/100\n",
      "12/12 [==============================] - 0s 5ms/step - loss: 54.0668 - mse: 54.0619 - mae: 5.4351 - mape: 24.3737 - val_loss: 43.4348 - val_mse: 43.4299 - val_mae: 4.1886 - val_mape: 20.4099\n",
      "Epoch 79/100\n",
      "12/12 [==============================] - 0s 4ms/step - loss: 57.4249 - mse: 57.4200 - mae: 5.7507 - mape: 26.5371 - val_loss: 46.4749 - val_mse: 46.4700 - val_mae: 4.1658 - val_mape: 19.3264\n",
      "Epoch 80/100\n"
     ]
    },
    {
     "name": "stdout",
     "output_type": "stream",
     "text": [
      "12/12 [==============================] - 0s 5ms/step - loss: 60.3483 - mse: 60.3434 - mae: 5.9347 - mape: 27.3113 - val_loss: 42.2419 - val_mse: 42.2370 - val_mae: 4.1644 - val_mape: 20.5932\n",
      "Epoch 81/100\n",
      "12/12 [==============================] - 0s 6ms/step - loss: 63.2425 - mse: 63.2376 - mae: 5.8722 - mape: 26.4701 - val_loss: 40.8593 - val_mse: 40.8544 - val_mae: 4.2174 - val_mape: 21.4709\n",
      "Epoch 82/100\n",
      "12/12 [==============================] - 0s 4ms/step - loss: 64.4734 - mse: 64.4685 - mae: 5.8873 - mape: 27.0923 - val_loss: 42.3607 - val_mse: 42.3558 - val_mae: 4.1069 - val_mape: 20.0070\n",
      "Epoch 83/100\n",
      "12/12 [==============================] - 0s 12ms/step - loss: 53.6128 - mse: 53.6079 - mae: 5.5432 - mape: 26.7059 - val_loss: 40.4258 - val_mse: 40.4209 - val_mae: 4.1725 - val_mape: 21.0538\n",
      "Epoch 84/100\n",
      "12/12 [==============================] - 0s 5ms/step - loss: 61.7701 - mse: 61.7652 - mae: 5.7927 - mape: 25.2812 - val_loss: 43.2765 - val_mse: 43.2716 - val_mae: 4.0445 - val_mape: 19.0719\n",
      "Epoch 85/100\n",
      "12/12 [==============================] - 0s 4ms/step - loss: 60.5401 - mse: 60.5352 - mae: 5.8532 - mape: 27.6354 - val_loss: 41.9793 - val_mse: 41.9743 - val_mae: 4.0354 - val_mape: 19.3152\n",
      "Epoch 86/100\n",
      "12/12 [==============================] - 0s 4ms/step - loss: 65.1961 - mse: 65.1912 - mae: 5.9741 - mape: 26.8717 - val_loss: 40.5686 - val_mse: 40.5637 - val_mae: 4.0393 - val_mape: 19.7924\n",
      "Epoch 87/100\n",
      "12/12 [==============================] - 0s 4ms/step - loss: 67.9577 - mse: 67.9528 - mae: 6.1034 - mape: 27.2232 - val_loss: 53.2907 - val_mse: 53.2859 - val_mae: 4.7243 - val_mape: 20.8819\n",
      "Epoch 88/100\n",
      "12/12 [==============================] - 0s 5ms/step - loss: 59.1429 - mse: 59.1380 - mae: 5.6206 - mape: 24.4343 - val_loss: 44.2983 - val_mse: 44.2934 - val_mae: 4.0404 - val_mape: 18.5355\n",
      "Epoch 89/100\n",
      "12/12 [==============================] - 0s 5ms/step - loss: 45.8311 - mse: 45.8262 - mae: 4.9769 - mape: 22.3737 - val_loss: 42.8478 - val_mse: 42.8429 - val_mae: 3.9858 - val_mape: 18.5577\n",
      "Epoch 90/100\n",
      "12/12 [==============================] - 0s 4ms/step - loss: 59.0639 - mse: 59.0590 - mae: 5.7976 - mape: 26.7704 - val_loss: 40.3900 - val_mse: 40.3851 - val_mae: 3.9372 - val_mape: 18.9522\n",
      "Epoch 91/100\n",
      "12/12 [==============================] - 0s 4ms/step - loss: 67.8314 - mse: 67.8265 - mae: 6.0215 - mape: 27.4012 - val_loss: 46.7558 - val_mse: 46.7509 - val_mae: 4.2300 - val_mape: 18.8976\n",
      "Epoch 92/100\n",
      "12/12 [==============================] - 0s 4ms/step - loss: 51.6319 - mse: 51.6270 - mae: 5.4847 - mape: 24.7019 - val_loss: 40.3747 - val_mse: 40.3698 - val_mae: 3.9075 - val_mape: 18.6294\n",
      "Epoch 93/100\n",
      "12/12 [==============================] - 0s 5ms/step - loss: 55.1575 - mse: 55.1526 - mae: 5.5708 - mape: 25.7256 - val_loss: 44.8357 - val_mse: 44.8309 - val_mae: 4.1205 - val_mape: 18.5464\n",
      "Epoch 94/100\n",
      "12/12 [==============================] - 0s 4ms/step - loss: 50.9106 - mse: 50.9057 - mae: 5.4090 - mape: 24.3039 - val_loss: 41.8230 - val_mse: 41.8181 - val_mae: 3.9471 - val_mape: 18.2596\n",
      "Epoch 95/100\n",
      "12/12 [==============================] - 0s 4ms/step - loss: 64.5031 - mse: 64.4982 - mae: 5.8440 - mape: 24.2527 - val_loss: 42.3922 - val_mse: 42.3873 - val_mae: 3.9751 - val_mape: 18.2072\n",
      "Epoch 96/100\n",
      "12/12 [==============================] - 0s 4ms/step - loss: 56.1353 - mse: 56.1304 - mae: 5.5226 - mape: 25.2242 - val_loss: 44.1875 - val_mse: 44.1827 - val_mae: 4.1098 - val_mape: 18.5159\n",
      "Epoch 97/100\n",
      "12/12 [==============================] - 0s 4ms/step - loss: 59.4298 - mse: 59.4249 - mae: 5.5588 - mape: 25.3116 - val_loss: 40.5544 - val_mse: 40.5495 - val_mae: 3.8918 - val_mape: 18.0956\n",
      "Epoch 98/100\n",
      "12/12 [==============================] - 0s 5ms/step - loss: 47.4855 - mse: 47.4806 - mae: 5.0888 - mape: 23.3359 - val_loss: 36.8598 - val_mse: 36.8548 - val_mae: 3.8381 - val_mape: 19.0353\n",
      "Epoch 99/100\n",
      "12/12 [==============================] - 0s 4ms/step - loss: 50.9577 - mse: 50.9528 - mae: 5.2936 - mape: 24.1355 - val_loss: 37.4355 - val_mse: 37.4305 - val_mae: 3.8044 - val_mape: 18.5013\n",
      "Epoch 100/100\n",
      "12/12 [==============================] - 0s 4ms/step - loss: 51.5196 - mse: 51.5147 - mae: 5.4762 - mape: 25.9659 - val_loss: 37.1101 - val_mse: 37.1052 - val_mae: 3.7914 - val_mape: 18.4236\n",
      "3/3 [==============================] - 0s 2ms/step - loss: 28.9016 - mse: 28.8967 - mae: 3.5165 - mape: 16.3897\n"
     ]
    },
    {
     "data": {
      "image/png": "[encoded data removed]",
      "text/plain": [
       "<Figure size 432x288 with 1 Axes>"
      ]
     },
     "metadata": {
      "needs_background": "light"
     },
     "output_type": "display_data"
    }
   ],
   "source": [
    "# step-1: Build model \n",
    "model_3 = Sequential([\n",
    "    Dense(8, input_shape=[X_train.shape[1]]),\n",
    "    Dropout(.2),\n",
    "    Dense(16,kernel_regularizer=regularizers.l1_l2(l1=1e-5, l2=1e-4)),\n",
    "    Dropout(.2),\n",
    "    Dense(16, activation='relu', kernel_regularizer=regularizers.l1_l2(l1=1e-5, l2=1e-4)),\n",
    "    Dropout(.2),\n",
    "    Dense(1),\n",
    "])\n",
    "\n",
    "# step-2: Compile model\n",
    "model_3.compile(loss='mse', metrics=[\"mse\", \"mae\", \"mape\"])\n",
    "\n",
    "# step-3: Train/Fit the model\n",
    "hist_3 = model_3.fit(X_train, Y_train, epochs=100, validation_data=(X_val, Y_val))\n",
    "\n",
    "# step-4: Evalution\n",
    "model_3.evaluate(X_test, Y_test)\n",
    "\n",
    "plt.plot(hist_3.history['mse'])\n",
    "plt.plot(hist_3.history['val_mse'])\n",
    "plt.title('Model Performance')\n",
    "plt.ylabel('MSE')\n",
    "plt.xlabel('Epoch')\n",
    "plt.legend(['Train', 'Val'], loc='upper right')\n",
    "plt.show()"
   ]
  },
  {
   "cell_type": "markdown",
   "metadata": {},
   "source": [
    "#### Congratualtions if you ran through above!  "
   ]
  }
 ],
 "metadata": {
  "kernelspec": {
   "display_name": "Python 3",
   "language": "python",
   "name": "python3"
  },
  "language_info": {
   "codemirror_mode": {
    "name": "ipython",
    "version": 3
   },
   "file_extension": ".py",
   "mimetype": "text/x-python",
   "name": "python",
   "nbconvert_exporter": "python",
   "pygments_lexer": "ipython3",
   "version": "3.7.5"
  }
 },
 "nbformat": 4,
 "nbformat_minor": 4
}
